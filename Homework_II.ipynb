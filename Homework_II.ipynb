{
  "nbformat": 4,
  "nbformat_minor": 0,
  "metadata": {
    "colab": {
      "name": "Homework II",
      "provenance": [],
      "collapsed_sections": []
    },
    "kernelspec": {
      "display_name": "Python 3",
      "name": "python3"
    },
    "language_info": {
      "name": "python"
    }
  },
  "cells": [
    {
      "cell_type": "markdown",
      "metadata": {
        "id": "6VBJpAMzglRo"
      },
      "source": [
        "# RetinaMNIST with rotations\n",
        "\n",
        "In this exercise your goal will be to solve an object detection training and prediction task using the anchor-based approach.\n",
        "**As a part of your solution you should provide a report summarizing your findings and results of the conducted experiments.**\n",
        "\n",
        "##TLDR; overview\n",
        "\n",
        "In this task one should:\n",
        "- determine the size of the feasible anchors for the object detection task posed in this Assignment,\n",
        "- build an object detection model using the variant of `RetinaNet`,\n",
        "- prepare a matching suite which will match predicted anchors with ground truth bounding boxes,\n",
        "- train an object detection model using a variant of `RetinaLoss`.\n",
        "\n",
        "Hints and comments:\n",
        "\n",
        "- Model architecture and loss are heavily inspired by [RetinaNet](https://arxiv.org/pdf/1708.02002.pdf) paper,\n",
        "- you can freely subclass and extend the interface of classes in this exercise,\n",
        "- be sure that you understand the concept of an anchor for object detection, covered during the lecture about Object Detection. There are many great tutorials and articles about it (e.g. [this](https://towardsdatascience.com/anchor-boxes-the-key-to-quality-object-detection-ddf9d612d4f9) one, note however that we are not implementing ignoring boxes for simplicity).\n",
        "\n",
        "### Data description\n",
        "\n",
        "In this task we will paste bounding boxes with digits **from 1 to 5** randomly selected from `MNIST` dataset on a canvas of size `(128, 128)` and **randomly flipped by 90 degrees**. We assume that:\n",
        "\n",
        "- the two boxes from a canvas should have no more than `0.1` of `iou` overlap,\n",
        "- the digits are fully contained in canvas,\n",
        "- boxes are modeled using `MnistBox` class,\n",
        "- canvas is modeled using `MnistCanvas` class.\n",
        "\n",
        "Let us have a look at definition of these classes:"
      ]
    },
    {
      "cell_type": "code",
      "metadata": {
        "id": "L1rAdIiRq2G8"
      },
      "source": [
        "from typing import List\n",
        "from typing import Optional\n",
        "from typing import Tuple\n",
        "\n",
        "import matplotlib.pyplot as plt\n",
        "import matplotlib.patches as patches\n",
        "import numpy as np\n",
        "import torch\n",
        "\n",
        "\n",
        "DEVICE = torch.device('cuda' if torch.cuda.is_available() else 'cpu')\n",
        "\n",
        "class MnistBox:\n",
        "\n",
        "    def __init__(\n",
        "        self,\n",
        "        x_min: int,\n",
        "        y_min: int,\n",
        "        x_max: int,\n",
        "        y_max: int,\n",
        "        class_nb: Optional[int] = None,\n",
        "        rotated: Optional[bool] = None,\n",
        "    ):\n",
        "        self.x_min = x_min\n",
        "        self.x_max = x_max\n",
        "        self.y_min = y_min\n",
        "        self.y_max = y_max\n",
        "        self.class_nb = class_nb\n",
        "        self.rotated = rotated\n",
        "    \n",
        "    @property\n",
        "    def x_diff(self):\n",
        "        return self.x_max - self.x_min\n",
        "    \n",
        "    @property\n",
        "    def y_diff(self):\n",
        "        return self.y_max - self.y_min\n",
        "\n",
        "    def __repr__(self):\n",
        "        return f'Mnist Box: x_min = {self.x_min},' +\\\n",
        "               f' x_max = {self.x_max}, y_min = {self.y_min},' +\\\n",
        "               f' y_max = {self.y_max}. Class = {self.class_nb}.' +\\\n",
        "               f' Rotated = {self.rotated}.'\n",
        "\n",
        "    def plot_on_ax(self, ax, color: Optional[str] = 'r'):\n",
        "        ax.add_patch(\n",
        "            patches.Rectangle(\n",
        "                (self.y_min, self.x_min),\n",
        "                 self.y_diff,\n",
        "                 self.x_diff,\n",
        "                 linewidth=1,\n",
        "                 edgecolor=color,\n",
        "                 facecolor='none',\n",
        "            )\n",
        "        )\n",
        "        ax.text(\n",
        "            self.y_min,\n",
        "            self.x_min,\n",
        "            f'{self.class_nb}' if not self.rotated else f'{self.class_nb}*',\n",
        "            bbox={\"facecolor\": color, \"alpha\": 0.4},\n",
        "            clip_box=ax.clipbox,\n",
        "            clip_on=True,\n",
        "        )\n",
        "\n",
        "    @property\n",
        "    def area(self):\n",
        "        return max((self.x_max - self.x_min), 0) * max((self.y_max - self.y_min), 0)\n",
        "\n",
        "    def iou_with(self, other_box: \"MnistBox\"):\n",
        "        aux_box = MnistBox(\n",
        "            x_min=max(self.x_min, other_box.x_min),\n",
        "            x_max=min(self.x_max, other_box.x_max),\n",
        "            y_min=max(self.y_min, other_box.y_min),\n",
        "            y_max=min(self.y_max, other_box.y_max),\n",
        "        ) \n",
        "        return aux_box.area / (self.area + other_box.area - aux_box.area)\n",
        "\n",
        "\n",
        "class MnistCanvas:\n",
        "\n",
        "    def __init__(\n",
        "        self,\n",
        "        image: np.ndarray,\n",
        "        boxes: List[MnistBox],\n",
        "    ):\n",
        "        self.image = image\n",
        "        self.boxes = boxes\n",
        "\n",
        "    def add_digit(\n",
        "        self,\n",
        "        digit: np.ndarray,\n",
        "        class_nb: int,\n",
        "        x_min: int,\n",
        "        y_min: int,\n",
        "        rotated=None,\n",
        "        iou_threshold=0.1,\n",
        "    ) -> bool:\n",
        "        \"\"\"\n",
        "        Add a digit to an image if it does not overlap with existing boxes\n",
        "        above iou_threshold.\n",
        "        \"\"\"\n",
        "        image_x, image_y = digit.shape\n",
        "        if x_min >= self.image.shape[0] and y_min >= self.image.shape[1]:\n",
        "            raise ValueError('Wrong initial corner box')\n",
        "        new_box_x_min = x_min\n",
        "        new_box_y_min = y_min\n",
        "        new_box_x_max = min(x_min + image_x, self.image.shape[0])\n",
        "        new_box_y_max = min(y_min + image_y, self.image.shape[1])\n",
        "        new_box = MnistBox(\n",
        "            x_min=new_box_x_min,\n",
        "            x_max=new_box_x_max,\n",
        "            y_min=new_box_y_min,\n",
        "            y_max=new_box_y_max,\n",
        "            class_nb=class_nb,\n",
        "            rotated=rotated,\n",
        "        )\n",
        "        old_background = self.image[\n",
        "            new_box_x_min:new_box_x_max,\n",
        "            new_box_y_min:new_box_y_max\n",
        "        ]\n",
        "        for box in self.boxes:\n",
        "            if new_box.iou_with(box) > iou_threshold:\n",
        "                return False\n",
        "        self.image[\n",
        "            new_box_x_min:new_box_x_max,\n",
        "            new_box_y_min:new_box_y_max\n",
        "        ] = np.maximum(old_background, digit)\n",
        "        self.boxes.append(\n",
        "            new_box\n",
        "        ) \n",
        "        return True\n",
        "        \n",
        "    def get_torch_tensor(self) -> torch.Tensor:\n",
        "        np_image = self.image.astype('float32')\n",
        "        np_image = np_image.reshape(\n",
        "            (1, 1, self.image.shape[0], self.image.shape[1])\n",
        "        )\n",
        "        return torch.from_numpy(np_image).to(DEVICE)\n",
        "\n",
        "    @classmethod\n",
        "    def get_empty_of_size(cls, size: Tuple[int, int]):\n",
        "        return cls(\n",
        "            image=np.zeros(size),\n",
        "            boxes=[],\n",
        "        )\n",
        "\n",
        "    def plot(self, boxes: Optional[List[MnistBox]] = None):\n",
        "        fig, ax = plt.subplots()\n",
        "        ax.imshow(self.image)\n",
        "        boxes = boxes or self.boxes\n",
        "        for box in boxes:\n",
        "            box.plot_on_ax(ax)\n",
        "        plt.show()"
      ],
      "execution_count": null,
      "outputs": []
    },
    {
      "cell_type": "markdown",
      "metadata": {
        "id": "NWMxgsgFtlze"
      },
      "source": [
        "Each canvas has 3-6 boxes with randomly selected digits. The digits for training data are from first 10K examples from `MNIST` train data. The digits for test data are selected from first 1K examples from `MNIST` test data. The Dataset is generated using the following functions:"
      ]
    },
    {
      "cell_type": "code",
      "metadata": {
        "id": "HezSZXw4z-cx"
      },
      "source": [
        "from keras.datasets import mnist\n",
        "import numpy as np\n",
        "\n",
        "\n",
        "mnist_data = mnist.load_data()\n",
        "(mnist_x_train, mnist_y_train), (mnist_x_test, mnist_y_test) = mnist_data\n",
        "\n",
        "\n",
        "def crop_insignificant_values(digit:np.ndarray, threshold=0.1):\n",
        "    bool_digit = digit > threshold\n",
        "    x_range = bool_digit.max(axis=0)\n",
        "    y_range = bool_digit.max(axis=1)\n",
        "    start_x = (x_range.cumsum() == 0).sum()\n",
        "    end_x = (x_range[::-1].cumsum() == 0).sum()\n",
        "    start_y = (y_range.cumsum() == 0).sum()\n",
        "    end_y = (y_range[::-1].cumsum() == 0).sum()\n",
        "    return digit[start_y:-end_y - 1, start_x:-end_x - 1]\n",
        "\n",
        "\n",
        "TRAIN_DIGITS = [\n",
        "    crop_insignificant_values(digit) / 255.0\n",
        "    for digit_index, digit in enumerate(mnist_x_train[:10000])\n",
        "]\n",
        "TRAIN_CLASSES = mnist_y_train[:10000]\n",
        "\n",
        "TEST_DIGITS = [\n",
        "    crop_insignificant_values(digit) / 255.0\n",
        "    for digit_index, digit in enumerate(mnist_x_test[:1000])\n",
        "]\n",
        "TEST_CLASSES = mnist_y_test[:1000]\n",
        "\n",
        "\n",
        "def get_random_canvas(\n",
        "    digits: Optional[List[np.ndarray]] = None,\n",
        "    classes: Optional[List[int]] = None,\n",
        "    nb_of_digits: Optional[int] = None,\n",
        "    ):\n",
        "    digits = digits if digits is not None else TRAIN_DIGITS\n",
        "    classes = classes if classes is not None else TRAIN_CLASSES\n",
        "    nb_of_digits = nb_of_digits if nb_of_digits is not None else np.random.randint(low=3, high=6 + 1)\n",
        "    new_canvas = MnistCanvas.get_empty_of_size(size=(128, 128))\n",
        "    attempts_done = 0\n",
        "    while attempts_done < nb_of_digits:\n",
        "        current_digit_index = np.random.randint(len(digits))\n",
        "        current_digit_class = classes[current_digit_index]\n",
        "        if current_digit_class not in [1, 2, 3, 4, 5]:\n",
        "            continue\n",
        "        rotate = np.random.random() > 0.5\n",
        "        current_digit = digits[current_digit_index]\n",
        "        if rotate:\n",
        "            current_digit = np.rot90(current_digit)\n",
        "        random_x_min = np.random.randint(0, 128 - current_digit.shape[0] - 3)\n",
        "        random_y_min = np.random.randint(0, 128 - current_digit.shape[1] - 3)\n",
        "        if new_canvas.add_digit(\n",
        "            digit=current_digit,\n",
        "            x_min=random_x_min,\n",
        "            y_min=random_y_min,\n",
        "            class_nb=current_digit_class,\n",
        "            rotated=rotate,\n",
        "        ):\n",
        "            attempts_done += 1\n",
        "    return new_canvas"
      ],
      "execution_count": null,
      "outputs": []
    },
    {
      "cell_type": "markdown",
      "metadata": {
        "id": "5i2OjUEC7eaC"
      },
      "source": [
        "Let us have a look at example canvas (rotated digits have additional *added to description)."
      ]
    },
    {
      "cell_type": "code",
      "metadata": {
        "colab": {
          "base_uri": "https://localhost:8080/",
          "height": 268
        },
        "id": "OsLpINOtvhd8",
        "outputId": "91e68414-3f34-4f78-b2e8-fd944c45db39"
      },
      "source": [
        "mnist_canvas = get_random_canvas()\n",
        "mnist_canvas.plot()"
      ],
      "execution_count": null,
      "outputs": [
        {
          "output_type": "display_data",
          "data": {
            "text/plain": [
              "<Figure size 432x288 with 1 Axes>"
            ],
            "image/png": "[encoded data removed]"
          },
          "metadata": {
            "needs_background": "light"
          }
        }
      ]
    },
    {
      "cell_type": "markdown",
      "metadata": {
        "id": "4QkpHGiOCnng"
      },
      "source": [
        "Now - let us generate test canvas:"
      ]
    },
    {
      "cell_type": "code",
      "metadata": {
        "colab": {
          "base_uri": "https://localhost:8080/",
          "height": 268
        },
        "id": "PV410KSYC-eT",
        "outputId": "61627aca-9cc9-4235-a0e8-cfca22cb06aa"
      },
      "source": [
        "TEST_CANVAS_SIZE = 256\n",
        "TEST_SEED = 42 # DO NOT CHANGE THIS LINE.\n",
        "\n",
        "np.random.seed(TEST_SEED)\n",
        "\n",
        "TEST_CANVAS = [\n",
        "    get_random_canvas(\n",
        "        digits=TEST_DIGITS,\n",
        "        classes=TEST_CLASSES,\n",
        "    )\n",
        "    for _ in range(TEST_CANVAS_SIZE)\n",
        "]\n",
        "\n",
        "TEST_CANVAS[0].plot()"
      ],
      "execution_count": null,
      "outputs": [
        {
          "output_type": "display_data",
          "data": {
            "text/plain": [
              "<Figure size 432x288 with 1 Axes>"
            ],
            "image/png": "[encoded data removed]"
          },
          "metadata": {
            "needs_background": "light"
          }
        }
      ]
    },
    {
      "cell_type": "markdown",
      "metadata": {
        "id": "OgU2bKyJ3pVh"
      },
      "source": [
        "For training one can either:\n",
        "- generate `TRAIN_CANVAS` similarly to `TEST_CANVAS` creation,\n",
        "- use the fact that `get_random_canvas()` generates a random train canvas and generate training data on-the-fly."
      ]
    },
    {
      "cell_type": "markdown",
      "metadata": {
        "id": "Ri3Jh7GzjZ4W"
      },
      "source": [
        "### Anchor size analysis (2pts)\n",
        "\n",
        "For this task:\n",
        "1. Sample at least 1000 random canvas.\n",
        "2. Analyze the sizes (heights and widths) of the `MnistBox`es from this canvas.\n",
        "3. Select the anchor sizes which will match the problem the best.\n",
        "\n",
        "Selected anchor sizes should be stored in a sensible manner in `ANCHOR_SIZES` list."
      ]
    },
    {
      "cell_type": "markdown",
      "source": [
        "## Solution\n",
        "\n",
        "I thought that it may be a good idea to look at a heatmap of the anchor sizes."
      ],
      "metadata": {
        "id": "-YpjeUB9XAEJ"
      }
    },
    {
      "cell_type": "code",
      "source": [
        "NUM_CANVASES = 1000\n",
        "\n",
        "canvases = [get_random_canvas(digits=TRAIN_DIGITS, classes=TRAIN_CLASSES)\n",
        "            for _ in range(NUM_CANVASES)]\n",
        "boxes = [box for canvas in canvases for box in canvas.boxes]\n",
        "box_sizes = np.array([[box.x_diff, box.y_diff] for box in boxes])"
      ],
      "metadata": {
        "id": "aYsz2q6LXK4X"
      },
      "execution_count": null,
      "outputs": []
    },
    {
      "cell_type": "code",
      "source": [
        "import matplotlib.pyplot as plt\n",
        "from matplotlib.colors import LogNorm\n",
        "\n",
        "x_max, y_max = np.amax(box_sizes, axis=0)\n",
        "counter = np.zeros((x_max+1, y_max+1), dtype=int)\n",
        "np.add.at(counter, (box_sizes[:,0], box_sizes[:,1]), 1)\n",
        "\n",
        "plt.imshow(counter, norm=LogNorm())\n",
        "plt.colorbar()"
      ],
      "metadata": {
        "colab": {
          "base_uri": "https://localhost:8080/",
          "height": 282
        },
        "id": "vp-bYaRyX0tL",
        "outputId": "4e908367-618d-403e-e028-45172f43fca0"
      },
      "execution_count": null,
      "outputs": [
        {
          "output_type": "execute_result",
          "data": {
            "text/plain": [
              "<matplotlib.colorbar.Colorbar at 0x7f9051639490>"
            ]
          },
          "metadata": {},
          "execution_count": 6
        },
        {
          "output_type": "display_data",
          "data": {
            "text/plain": [
              "<Figure size 432x288 with 2 Axes>"
            ],
            "image/png": "[encoded data removed]"
          },
          "metadata": {
            "needs_background": "light"
          }
        }
      ]
    },
    {
      "cell_type": "code",
      "source": [
        "all(x == 19 or y == 19 for x, y in box_sizes)"
      ],
      "metadata": {
        "colab": {
          "base_uri": "https://localhost:8080/"
        },
        "id": "2GXkgu4tdROa",
        "outputId": "4decf2bf-4da5-46ba-a3bd-dfd5b48568a5"
      },
      "execution_count": null,
      "outputs": [
        {
          "output_type": "execute_result",
          "data": {
            "text/plain": [
              "True"
            ]
          },
          "metadata": {},
          "execution_count": 7
        }
      ]
    },
    {
      "cell_type": "markdown",
      "source": [
        "It would indeed seem that at least one of the coordinates is equal to $19$; I would therefore say that the appropriate anchor sizes are $(x, 19)$ for odd $x \\in \\{x_{\\min}, \\ldots, x_{\\max}\\}$ and likewise $(19, y)$ (the \"odd\" part is to make it easier to produce the anchors, and besides it reduces the number of them by 2x). I will also make it a bit more sparse in the low end since there aren't that many box sizes there, as is clear from the heatmap."
      ],
      "metadata": {
        "id": "ADkOki7IdNP9"
      }
    },
    {
      "cell_type": "code",
      "source": [
        "x_min, y_min = np.amin(box_sizes, axis=0)\n",
        "print(x_min, x_max, y_min, y_max)\n",
        "\n",
        "values = [3, 7, 11, 13, 15, 17, 19]\n",
        "ANCHOR_SIZES = [*((x, 19) for x in values), \n",
        "                *((19, y) for y in values)]\n",
        "ANCHOR_SIZES"
      ],
      "metadata": {
        "colab": {
          "base_uri": "https://localhost:8080/"
        },
        "id": "D5YoTIEjeRm2",
        "outputId": "0e5a6323-e114-416e-d041-38fe4d4f76a4"
      },
      "execution_count": null,
      "outputs": [
        {
          "output_type": "stream",
          "name": "stdout",
          "text": [
            "2 19 2 19\n"
          ]
        },
        {
          "output_type": "execute_result",
          "data": {
            "text/plain": [
              "[(3, 19),\n",
              " (7, 19),\n",
              " (11, 19),\n",
              " (13, 19),\n",
              " (15, 19),\n",
              " (17, 19),\n",
              " (19, 19),\n",
              " (19, 3),\n",
              " (19, 7),\n",
              " (19, 11),\n",
              " (19, 13),\n",
              " (19, 15),\n",
              " (19, 17),\n",
              " (19, 19)]"
            ]
          },
          "metadata": {},
          "execution_count": 8
        }
      ]
    },
    {
      "cell_type": "markdown",
      "metadata": {
        "id": "_GpJZUkDGJSi"
      },
      "source": [
        "### Model building (2pt)\n",
        "\n",
        "\n",
        "One should build a model for digit detection in $\\texttt{pytorch}$. Model should consist of:\n",
        "\n",
        "#### $\\texttt{backbone}$:\n",
        "\n",
        "We provided you with a backbone model architecture that accepts a `MnistCanvas` instance and output a tensor with shape $(1, 16, 16, 128)$. It should be trained together with the rest of your solution.\n",
        "\n",
        "#### $\\texttt{anchors}$:\n",
        "\n",
        "List of `MnistBox`es where each box:\n",
        "\n",
        "- should have size of one of selected `ANCHOR_SIZES`,\n",
        "- should have center coordinates on canvas of type $\\left(\\left(m + \\frac{1}{2}\\right) * 8, \\left(n + \\frac{1}{2}\\right) * 8\\right)$  for $m, n \\in \\{0, 1, \\dots, 16 - 1\\}$,\n",
        "\n",
        "`MnistBox` with anchor should have an attribute `class_nb` set to `None`.\n",
        "\n",
        "#### $\\texttt{digitClassificationHead}$:\n",
        "\n",
        "$\\texttt{digitClassificationHead}$ should accept backbone output as an input and output `digit_classification_output` tensor of shape $(len(\\texttt{anchors)}, 5)$ where the value $ch_{i, j}$ which is the value of i-th row and j-th column has a property that $sigmoid(ch_{i, j})$ is a probability that i-th anchor from $\\texttt{anchors}$ overlaps significantly with some canvas `GTBox: MnistBox` with a digit of class $j + 1$ (ground truth box).\n",
        "\n",
        "#### $\\texttt{rotationClassificationHead}$:\n",
        "\n",
        "$\\texttt{rotationClassificationHead}$ should accept backbone output as an input and output `rotation_classification_output` tensor of shape $(len(\\texttt{anchors)}, 2)$ where the value $ch_{i, j}$ which is the value of i-th row and j-th column has a property that $sigmoid(ch_{i, j})$ is a probability that i-th anchor from $\\texttt{anchors}$ overlaps significantly with some canvas `GTBox: MnistBox` with a digit which was not rotated when $j = 0$ and was rotated when $j = 1$.\n",
        "\n",
        "#### $\\texttt{boxRegressionHead}$:\n",
        "\n",
        "$\\texttt{boxRegressionHead}$ should accept backbone output as an input and output `box_regression_output` tensor of shape $(len(\\texttt{anchors)}, 4)$ where the value $br_{i}$ which is the value of i-th row has a property that if there is a ground truth digit box $\\texttt{GTBox}$ - significantly overlapping with $\\texttt{anchor}[i]$ then the following properties hold:\n",
        "\n",
        "$$\\texttt{GTBox.x_min} = \\texttt{anchor[i].x_min} + br_{i, 0},$$ \n",
        "$$\\texttt{GTBox.x_max} = \\texttt{anchor[i].x_max} + br_{i, 1},$$ \n",
        "$$\\texttt{GTBox.y_min} = \\texttt{anchor[i].y_min} + br_{i, 2},$$ \n",
        "$$\\texttt{GTBox.y_max} = \\texttt{anchor[i].y_max} + br_{i, 3}.$$ \n",
        "\n",
        "#### *Hint*: be careful with a construction of a head output as a simple reshaping might cause unexpected permutation of anchors.\n",
        "\n",
        "### Model output\n",
        "\n",
        "Model should output `DigitDetectionModelOutput` class defined below.\n",
        "\n",
        "#### Comment on _significant overlap_:\n",
        "\n",
        "The meaning of significant overlap will be described later."
      ]
    },
    {
      "cell_type": "markdown",
      "source": [
        "## Solution\n",
        "\n",
        "Let's start with the anchors. I will clip some of them, so not all the centers will be as specified in the text above, but I hope it's not a major issue."
      ],
      "metadata": {
        "id": "oWVGbcmUz78q"
      }
    },
    {
      "cell_type": "code",
      "source": [
        "def make_box(m, n, x, y):\n",
        "  x_min = np.clip(8*m+4-x//2, 0, 128-1)\n",
        "  x_max = np.clip(8*m+4+x//2, 0, 128-1)\n",
        "  y_min = np.clip(8*n+4-y//2, 0, 128-1)\n",
        "  y_max = np.clip(8*n+4+y//2, 0, 128-1)\n",
        "  return MnistBox(x_min, y_min, x_max, y_max)\n",
        "\n",
        "ms, ns = np.indices((16, 16))\n",
        "ANCHORS = np.array([[make_box(ms[idx], ns[idx], x, y)\n",
        "                     for x, y in ANCHOR_SIZES]\n",
        "                    for idx in np.ndindex(*ms.shape)])\n",
        "ANCHORS = ANCHORS.reshape((-1))"
      ],
      "metadata": {
        "id": "9h1WW9rs5QJ_"
      },
      "execution_count": null,
      "outputs": []
    },
    {
      "cell_type": "markdown",
      "source": [
        "All the `MaxPool`ing in the backbone makes it so that the 16x16 \"image\" produced by it roughly corresponds to the anchor centers that we want (in any case, that's what we shall assume since it makes it easier). Then, insofar as the heads are concerned, we just use a `Conv2d` from the output # of channels from the backbone to 5, 2, 4 channels for the heads respectively, with a kernel size of 1 since we don't want to pool anything at this stage but rather just reduce it all, sort of like a bunch of fully-connected layers for each of the segments. Finally we flatten the tensors in the same fashion as we do the `ANCHORS`, so that we end up with the correct order of anchors (hopefully)."
      ],
      "metadata": {
        "id": "S0MroqPO5PlL"
      }
    },
    {
      "cell_type": "code",
      "metadata": {
        "id": "kXco8riNGHhl"
      },
      "source": [
        "from torch import nn\n",
        "\n",
        "\n",
        "\n",
        "class DigitDetectionModelOutput:\n",
        "    def __init__(\n",
        "        self,\n",
        "        anchors: List[MnistBox],\n",
        "        digit_classification_output: torch.Tensor,\n",
        "        rotation_classification_output: torch.Tensor,\n",
        "        box_regression_output: torch.Tensor,\n",
        "    ):\n",
        "        self.anchors = anchors\n",
        "        self.digit_classification_output = digit_classification_output\n",
        "        self.box_regression_output = box_regression_output\n",
        "        self.rotation_classification_output = rotation_classification_output\n",
        "\n",
        "\n",
        "class Backbone(torch.nn.Module):\n",
        "    def __init__(self):\n",
        "        super().__init__()\n",
        "        self.output_shape = (16, 16, 128)\n",
        "        self.first_block = torch.nn.Sequential(\n",
        "            nn.Conv2d(1, 16, (3, 3), padding=1),\n",
        "            nn.ReLU(),\n",
        "            nn.Conv2d(16, 32, (3, 3), padding=1),\n",
        "            nn.ReLU(),\n",
        "            nn.MaxPool2d(2, 2),\n",
        "        )\n",
        "        self.blocks = torch.nn.ModuleList(\n",
        "            [torch.nn.Sequential(*[\n",
        "                nn.Conv2d(16 * (2 ** i), 16 * (2 ** (i + 1)), (3, 3), padding=1),\n",
        "                nn.ReLU(),\n",
        "                nn.MaxPool2d(2, 2),\n",
        "              ]) for i in range(1, 3)\n",
        "            ]\n",
        "        )\n",
        "\n",
        "    def forward(self, x: MnistCanvas) -> torch.Tensor:\n",
        "        image = torch.Tensor(x.image).to(DEVICE).view(1, 1, 128, 128)\n",
        "        aux = self.first_block(image)\n",
        "        for block in self.blocks:\n",
        "            aux = block(aux)\n",
        "        return aux\n",
        "\n",
        "\n",
        "class DigitDetectionModel(torch.nn.Module):\n",
        "  def __init__(self):\n",
        "    super().__init__()\n",
        "    self.backbone = Backbone()\n",
        "    self.num_anchors = len(ANCHOR_SIZES)\n",
        "\n",
        "    def create_head(out_channels, classifier=True):\n",
        "      final_conv = nn.Conv2d(128, out_channels, 1)\n",
        "      if classifier:\n",
        "        def_prob = 1e-2\n",
        "        final_conv.bias.data.fill_(-np.log((1-def_prob)/def_prob))\n",
        "      \n",
        "      return torch.nn.Sequential(\n",
        "        nn.Conv2d(128, 128, 3, padding=1),\n",
        "        nn.ReLU(True),\n",
        "        nn.Conv2d(128, 128, 3, padding=1),\n",
        "        nn.ReLU(True),\n",
        "        nn.Conv2d(128, 128, 3, padding=1),\n",
        "        nn.ReLU(True),\n",
        "        final_conv\n",
        "      )\n",
        "\n",
        "    self.digit_pred_head = create_head(5*self.num_anchors)\n",
        "    self.rot_pred_head = create_head(2*self.num_anchors)\n",
        "    self.box_regr_head = create_head(4*self.num_anchors, classifier=False)\n",
        "\n",
        "  def forward(self, x: MnistCanvas) -> DigitDetectionModelOutput:\n",
        "    x = self.backbone(x)\n",
        "\n",
        "    anchors = ANCHORS\n",
        "\n",
        "    digit_pred = self.digit_pred_head(x)\n",
        "    digit_pred = digit_pred.permute((0, 2, 3, 1)).reshape((len(anchors), 5))\n",
        "\n",
        "    rot_pred = self.rot_pred_head(x)\n",
        "    rot_pred = rot_pred.permute((0, 2, 3, 1)).reshape((len(anchors), 2))\n",
        "\n",
        "    box_regr = self.box_regr_head(x)\n",
        "    box_regr = box_regr.permute((0, 2, 3, 1)).reshape((len(anchors), 4))\n",
        "\n",
        "    return DigitDetectionModelOutput(ANCHORS, digit_pred, rot_pred, box_regr)"
      ],
      "execution_count": null,
      "outputs": []
    },
    {
      "cell_type": "markdown",
      "metadata": {
        "id": "hnZu3sdhTfTJ"
      },
      "source": [
        "### Significant overlap (4pt)\n",
        "\n",
        "In order to manage definition of a _significant overlap_ student should implement the `TargetDecoder`. `TargetDecoder` have two methods:\n",
        "\n",
        "### - `get_targets`\n",
        "\n",
        "This method accepts a `canvas: MnistCanvas` with boxes later refered to as `gt_boxes: List[MnistBox]`, `anchors: List[MnistBox]` of model anchors and `iou_threshold: float`. Its output should be `DigitDetectionModelTarget` instance with the following attributes:\n",
        "\n",
        "- `digit_classification_target` - a tensor of shape $(len(anchors), 5)$,\n",
        "- `rotation_classification_target` - a tensor of shape $(len(anchors), 2)$\n",
        "- `box_regression_target` - a tensor of shape $(len(anchors), 4)$,\n",
        "- `matched_anchors` - a list of indices anchors matched (see definition below).\n",
        "\n",
        "The output attributes should be computed in a following manner: \n",
        "\n",
        "1. All of the outputs of the output tensors should be `0` except the case presented in the point 2.\n",
        "1. if for anchor `anchors[i]` there exist at least one `gt_box` from `gt_boxes` with `iou` overlap greater than `iou_threshold` then let `gt_best` be the one with the greatest `iou` overlap (ties resolved randomly). Then `box_regression_target` should encode the bounding box correction, namely:\n",
        "\n",
        "$$\\texttt{box_regression_target}[i, 0] = \\texttt{gt_best.x_min} - \\texttt{anchor[i].x_min}$$ \n",
        "$$\\texttt{box_regression_target}[i, 1] = \\texttt{gt_best.x_max} - \\texttt{anchor[i].x_max}$$ \n",
        "$$\\texttt{box_regression_target}[i, 2] = \\texttt{gt_best.y_min} - \\texttt{anchor[i].y_min}$$ \n",
        "$$\\texttt{box_regression_target}[i, 3] = \\texttt{gt_best.y_max} - \\texttt{anchor[i].y_max}$$,\n",
        "\n",
        "`digit_classification_target` should encode the class of matched `gt_best`, namely:\n",
        "\n",
        "$$\\texttt{digit_classification_target}[i, \\texttt{gt_best.class_nb} - 1] = 1.$$\n",
        "\n",
        "`rotation_classification_target` should encode if matched `gt_best` has a digit which was rotated, namely:\n",
        "\n",
        "$$\\texttt{rotation_classification_target}[i, 0] = 1,$$\n",
        "\n",
        "if `gt_best` digit was not rotated and:\n",
        "\n",
        "$$\\texttt{rotation_classification_target}[i, 1] = 1,$$\n",
        "\n",
        "if `gt_best` digit was rotated (this might be interpreted as a one-hot encoding if a digit was rotated).\n",
        "\n",
        "Moreover - the `anchor[i]` is considered to be _matched_ with some ground truth box so index `i` should be in `matched_anchors` list.\n",
        "\n",
        "The output should be packed into `DigitDetectionModelTarget` class defined below.\n",
        "\n",
        "_Hint_: note that there might be cases when no anchor is matched. What does it mean about your anchors?\n",
        "\n",
        "### - `get_predictions`\n",
        "\n",
        "This method should decode the `DigitDetectionModelOutput` to set of final boxes\n",
        "predictions. We leave the way of selecting the predictions to students.\n",
        "\n",
        "_HINT_: we definitely advise to use `torchvision.ops.nms` function.\n",
        "\n"
      ]
    },
    {
      "cell_type": "code",
      "source": [
        "ANCHORS"
      ],
      "metadata": {
        "colab": {
          "base_uri": "https://localhost:8080/"
        },
        "id": "68aO6tCZKOOy",
        "outputId": "22689b81-85e8-4c3f-d067-102ede0f24ba"
      },
      "execution_count": null,
      "outputs": [
        {
          "output_type": "execute_result",
          "data": {
            "text/plain": [
              "array([Mnist Box: x_min = 3, x_max = 5, y_min = 0, y_max = 13. Class = None. Rotated = None.,\n",
              "       Mnist Box: x_min = 1, x_max = 7, y_min = 0, y_max = 13. Class = None. Rotated = None.,\n",
              "       Mnist Box: x_min = 0, x_max = 9, y_min = 0, y_max = 13. Class = None. Rotated = None.,\n",
              "       ...,\n",
              "       Mnist Box: x_min = 115, x_max = 127, y_min = 117, y_max = 127. Class = None. Rotated = None.,\n",
              "       Mnist Box: x_min = 115, x_max = 127, y_min = 116, y_max = 127. Class = None. Rotated = None.,\n",
              "       Mnist Box: x_min = 115, x_max = 127, y_min = 115, y_max = 127. Class = None. Rotated = None.],\n",
              "      dtype=object)"
            ]
          },
          "metadata": {},
          "execution_count": 11
        }
      ]
    },
    {
      "cell_type": "code",
      "metadata": {
        "id": "WWcthFZQquNo"
      },
      "source": [
        "from torchvision.ops import box_iou, nms\n",
        "\n",
        "\n",
        "CONFIDENCE_THRESHOLD = 0.7\n",
        "MAX_OVERLAP_IOU = 0.1\n",
        "\n",
        "ANCHOR_BOXES = torch.tensor([[a.x_min, a.y_min, a.x_max, a.y_max] \n",
        "                              for a in ANCHORS]).float()\n",
        "\n",
        "class DigitDetectionModelTarget:\n",
        "\n",
        "    def __init__(\n",
        "        self,\n",
        "        digit_classification_target: torch.Tensor,\n",
        "        rotation_classification_target: torch.Tensor,\n",
        "        box_regression_target: torch.Tensor,\n",
        "        matched_anchors: List[int],\n",
        "    ):\n",
        "        self.digit_classification_target = digit_classification_target\n",
        "        self.rotation_classification_target = rotation_classification_target\n",
        "        self.box_regression_target = box_regression_target\n",
        "        self.matched_anchors = matched_anchors\n",
        "\n",
        "\n",
        "class TargetDecoder:\n",
        "\n",
        "    def get_targets(\n",
        "        self,\n",
        "        canvas: MnistCanvas,\n",
        "        anchors: List[MnistBox],\n",
        "        iou_threshold: float=0.2,\n",
        "        nb_of_classes: int = 5,\n",
        "    ) -> DigitDetectionModelTarget:\n",
        "      digit_classif_tgt = torch.zeros(len(anchors), nb_of_classes)\n",
        "      rot_classif_tgt = torch.zeros(len(anchors), 2)\n",
        "      box_regr_tgt = torch.zeros(len(anchors), 4)\n",
        "      matched_anchors = []\n",
        "\n",
        "      gt_boxes = canvas.boxes\n",
        "      if len(gt_boxes) > 0:\n",
        "        for idx, anchor in enumerate(anchors):\n",
        "          gt_best = max(gt_boxes, key=anchor.iou_with)\n",
        "          if anchor.iou_with(gt_best) > iou_threshold:\n",
        "            digit_classif_tgt[idx,gt_best.class_nb-1] = 1\n",
        "            rot_classif_tgt[idx,1 if gt_best.rotated else 0] = 1\n",
        "            box_regr_tgt[idx,0] = gt_best.x_min - anchor.x_min\n",
        "            box_regr_tgt[idx,1] = gt_best.y_min - anchor.y_min\n",
        "            box_regr_tgt[idx,2] = gt_best.x_max - anchor.x_max\n",
        "            box_regr_tgt[idx,3] = gt_best.y_max - anchor.y_max\n",
        "            matched_anchors.append(idx)\n",
        "\n",
        "      return DigitDetectionModelTarget(digit_classif_tgt, rot_classif_tgt,\n",
        "                                       box_regr_tgt, matched_anchors)\n",
        "\n",
        "    def get_predictions(\n",
        "        self,\n",
        "        model_output: DigitDetectionModelOutput,\n",
        "    ) -> List[MnistBox]:\n",
        "        probs = torch.sigmoid(model_output.digit_classification_output)\n",
        "        max_probs = torch.amax(probs, 1)\n",
        "        anchor_hits, = torch.where(max_probs > CONFIDENCE_THRESHOLD)\n",
        "        sel_anchors = nms(ANCHOR_BOXES[anchor_hits].to(DEVICE), max_probs[anchor_hits],\n",
        "                          MAX_OVERLAP_IOU)\n",
        "        \n",
        "        digits = torch.argmax(probs[sel_anchors], 1)\n",
        "        \n",
        "        rot_probs = torch.sigmoid(model_output.rotation_classification_output[sel_anchors])\n",
        "        is_rotated = torch.argmax(rot_probs, 1).bool()\n",
        "\n",
        "        box_regr = model_output.box_regression_output[sel_anchors]\n",
        "        \n",
        "        def prediction_box(idx):\n",
        "          anchor = ANCHORS[sel_anchors[idx]]\n",
        "          x_min = anchor.x_min + box_regr[idx,0]\n",
        "          y_min = anchor.y_min + box_regr[idx,1]\n",
        "          x_max = anchor.x_max + box_regr[idx,2]\n",
        "          y_max = anchor.y_max + box_regr[idx,3]\n",
        "          return MnistBox(x_min, y_min, x_max, y_max, digits[idx], is_rotated[idx])\n",
        "\n",
        "        return [prediction_box(idx) for idx in range(len(sel_anchors))]"
      ],
      "execution_count": null,
      "outputs": []
    },
    {
      "cell_type": "markdown",
      "metadata": {
        "id": "xA1Nvz6jagyP"
      },
      "source": [
        "### Metrics (4pt)\n",
        "\n",
        "## Retina Loss\n",
        "As a loss function one should implement the variant of Retina Loss. It should be computed in a following manner:\n",
        "\n",
        "`compute_loss`: \n",
        "\n",
        "This method accepts:\n",
        "- `DigitDetectionModelTarget`,\n",
        "- `DigitDetectionModelOutput`,\n",
        "\n",
        "and computes a loss which is a sum of a:\n",
        "- `torch.nn.SmoothL1Loss` between boxes predictions and targets averaged only over matched anchors,\n",
        "- `torchvision.ops.sigmoid_focal_loss` between digit predictions and targets,\n",
        "- `torchvision.ops.sigmoid_focal_loss` between rotation predictions and targets,\n",
        "\n",
        "One can either use `torch` default parameters for this losses or try to tune them.\n",
        "\n",
        "If there are no matched anchors - a loss should return `None`. Remember to handle this case separately in your training loop. What does the occurence of this case means about your anchors?\n",
        "\n",
        "## Digit Accuracy\n",
        "\n",
        "This method shoud accept `canvas: MnistCanvas` and `predicted_boxes: List[MnistBox]` obtained using `TargetDecoder.get_predictions` method and output whether there is a direct matching between boxes from `MnistCanvas` and predictions. There is a direct matching if:\n",
        "\n",
        "- for all boxes from `canvas`, there exist precisely one box from `predicted_boxes` with a matching class  and `iou` overlap greater than `0.5`,\n",
        "- the number of `canvas` boxes match `len(predicted_boxes)`.\n",
        "\n",
        "The model shoud output `1` if there is a matching and `0` otherwise.\n"
      ]
    },
    {
      "cell_type": "code",
      "metadata": {
        "id": "rffXn9CQwVu4"
      },
      "source": [
        "import torch\n",
        "import torchvision \n",
        "\n",
        "\n",
        "class RetinaLoss:\n",
        "    def compute_loss(\n",
        "        self,\n",
        "        model_output: DigitDetectionModelOutput,\n",
        "        model_target: DigitDetectionModelTarget,\n",
        "    ) -> Optional[torch.Tensor]:\n",
        "      \n",
        "      matched = model_target.matched_anchors\n",
        "      if len(matched) > 0:\n",
        "        loss = 0.0\n",
        "\n",
        "        pred_regr_box = model_output.box_regression_output[matched].to(DEVICE)\n",
        "        true_regr_box = model_target.box_regression_target[matched].to(DEVICE)\n",
        "        loss += torch.nn.SmoothL1Loss()(pred_regr_box, true_regr_box)\n",
        "\n",
        "        pred_digits = model_output.digit_classification_output.to(DEVICE)\n",
        "        true_digits = model_target.digit_classification_target.to(DEVICE)\n",
        "        loss += torchvision.ops.sigmoid_focal_loss(pred_digits, true_digits, reduction=\"mean\")\n",
        "\n",
        "        pred_rot = model_output.rotation_classification_output.to(DEVICE)\n",
        "        true_rot = model_target.rotation_classification_target.to(DEVICE)\n",
        "        loss += torchvision.ops.sigmoid_focal_loss(pred_rot, true_rot, reduction=\"mean\")\n",
        "\n",
        "        return loss\n",
        "\n",
        "\n",
        "class DigitAccuracy:\n",
        "    def compute_metric  (\n",
        "        self,\n",
        "        predicted_boxes: List[MnistBox],\n",
        "        canvas: MnistCanvas,\n",
        "    ):\n",
        "        if len(canvas.boxes) != len(predicted_boxes):\n",
        "          return 0\n",
        "        \n",
        "        for gt_box in canvas.boxes:\n",
        "          num_matching = 0\n",
        "          for pred_box in predicted_boxes:\n",
        "            if gt_box.class_nb == pred_box.class_nb and gt_box.iou_with(pred_box) > 0.5:\n",
        "              num_matching += 1\n",
        "          \n",
        "          if num_matching != 1:\n",
        "            return 0\n",
        "        \n",
        "        return 1"
      ],
      "execution_count": null,
      "outputs": []
    },
    {
      "cell_type": "markdown",
      "metadata": {
        "id": "15n5w-hhvRbS"
      },
      "source": [
        "### Train your model (4pt)\n",
        "\n",
        "One should use all classes defined above to train the model.\n",
        "\n",
        "A passing threshold is `10%` of a `DigitAccuracy` on a `TEST_CANVAS` data.\n",
        "\n",
        "Plot example results of matched and mismatched predictions (2pt).\n",
        "\n",
        "**Hint:** Training can take a while to achieve the expected accuracy. It is normal that for many epochs at the beginning accuracy is constantly $0$. Do not worry as long as the loss is on average decreasing across epochs.\n",
        "\n",
        "Have fun!"
      ]
    },
    {
      "cell_type": "markdown",
      "source": [
        "## Solution\n",
        "So, uhm.. I guess it seems to work fine in that the loss is decreasing, but it takes a long time and I sort-of didn't have it. Oh well."
      ],
      "metadata": {
        "id": "Y2ltORuIEKwe"
      }
    },
    {
      "cell_type": "code",
      "source": [
        "!pip install tqdm"
      ],
      "metadata": {
        "colab": {
          "base_uri": "https://localhost:8080/"
        },
        "id": "Ko4JMQZp-mem",
        "outputId": "feab761f-8de3-4f77-abae-ec63ae3613f2"
      },
      "execution_count": null,
      "outputs": [
        {
          "output_type": "stream",
          "name": "stdout",
          "text": [
            "Requirement already satisfied: tqdm in /home/vitreus/.local/lib/python3.8/site-packages (4.62.3)\r\n"
          ]
        }
      ]
    },
    {
      "cell_type": "code",
      "source": [
        "from torch import optim\n",
        "from tqdm import tqdm\n",
        "from torch.profiler import profile, record_function, ProfilerActivity\n",
        "\n",
        "CANVASES_PER_EPOCH = 2048\n",
        "NUM_EPOCHS = 25\n",
        "LAST_EPOCH = 8\n",
        "\n",
        "TRAIN_CANVASES = [get_random_canvas(digits=TRAIN_DIGITS, classes=TRAIN_CLASSES)\n",
        "                  for _ in range(CANVASES_PER_EPOCH)]\n",
        "\n",
        "net = DigitDetectionModel()\n",
        "net = net.to(DEVICE)\n",
        "optimizer = optim.Adam(net.parameters(), lr=1e-4)\n",
        "target_decoder = TargetDecoder()\n",
        "retina_loss = RetinaLoss()\n",
        "digit_acc = DigitAccuracy()\n",
        "\n",
        "def train(epoch_idx):\n",
        "  net.train()\n",
        "  train_loss = 0.0\n",
        "  num_items = 0\n",
        "  pbar = tqdm(TRAIN_CANVASES)\n",
        "  for idx, canvas in enumerate(pbar):\n",
        "    optimizer.zero_grad()\n",
        "    output = net.forward(canvas)\n",
        "    targets = target_decoder.get_targets(canvas, output.anchors)\n",
        "    loss = retina_loss.compute_loss(output, targets)\n",
        "    if loss is not None:\n",
        "      loss.backward()\n",
        "      optimizer.step()\n",
        "      train_loss += loss.item()\n",
        "      num_items += 1\n",
        "    pbar.set_description(f\"train | epoch {epoch_idx}, {idx}/{len(TRAIN_CANVASES)}, loss = {train_loss/num_items}\")\n",
        "\n",
        "def test(epoch_idx):\n",
        "  net.eval()\n",
        "  test_loss = 0.0\n",
        "  test_acc = 0\n",
        "  num_items = 0\n",
        "  pbar = tqdm(TEST_CANVAS)\n",
        "  for idx, canvas in enumerate(pbar):\n",
        "    output = net.forward(canvas)\n",
        "    \n",
        "    targets = target_decoder.get_targets(canvas, output.anchors)\n",
        "    loss = retina_loss.compute_loss(output, targets)\n",
        "    if loss is not None:\n",
        "      test_loss += loss.item()\n",
        "    \n",
        "    predictions = target_decoder.get_predictions(output)\n",
        "    is_correct = digit_acc.compute_metric(predictions, canvas)\n",
        "    test_acc += is_correct\n",
        "\n",
        "    num_items += 1\n",
        "    pbar.set_description(f\"test | epoch {epoch_idx}, {idx}/{len(TEST_CANVAS)}, loss = {test_loss/num_items}, acc = {test_acc/num_items}\")\n",
        "\n",
        "def main():\n",
        "  start_epoch = 0\n",
        "  if LAST_EPOCH is not None:\n",
        "    net.load_state_dict(torch.load(f'net{LAST_EPOCH}'))\n",
        "    start_epoch = LAST_EPOCH + 1\n",
        "\n",
        "  for epoch_idx in range(start_epoch, NUM_EPOCHS):\n",
        "    train(epoch_idx)\n",
        "    test(epoch_idx)\n",
        "    torch.save(net.state_dict(), f'net{epoch_idx}')"
      ],
      "metadata": {
        "id": "crAiOsxgZ3Z3"
      },
      "execution_count": null,
      "outputs": []
    },
    {
      "cell_type": "code",
      "source": [
        "main()"
      ],
      "metadata": {
        "colab": {
          "base_uri": "https://localhost:8080/",
          "height": 608
        },
        "id": "mRI-_q1UA4rk",
        "outputId": "b33fc887-2850-4624-d9eb-a7f530e57c2c"
      },
      "execution_count": null,
      "outputs": [
        {
          "output_type": "stream",
          "name": "stderr",
          "text": [
            "train | epoch 9, 2047/2048, loss = 0.24401087132446264: 100%|██████████| 2048/2048 [05:48<00:00,  5.88it/s]\n",
            "test | epoch 9, 255/256, loss = 0.24009239692531992, acc = 0.0: 100%|██████████| 256/256 [00:41<00:00,  6.21it/s]\n",
            "train | epoch 10, 2047/2048, loss = 0.2163629024380498: 100%|██████████| 2048/2048 [05:48<00:00,  5.88it/s]\n",
            "test | epoch 10, 255/256, loss = 0.22881385558866896, acc = 0.0: 100%|██████████| 256/256 [00:41<00:00,  6.21it/s]\n",
            "train | epoch 11, 2047/2048, loss = 0.19584992685122415: 100%|██████████| 2048/2048 [05:48<00:00,  5.88it/s]\n",
            "test | epoch 11, 255/256, loss = 0.21799024631036445, acc = 0.0: 100%|██████████| 256/256 [00:41<00:00,  6.21it/s]\n",
            "train | epoch 12, 2047/2048, loss = 0.1791528681633281: 100%|██████████| 2048/2048 [05:48<00:00,  5.88it/s]\n",
            "test | epoch 12, 255/256, loss = 0.21013509909971617, acc = 0.0: 100%|██████████| 256/256 [00:41<00:00,  6.22it/s]\n",
            "train | epoch 13, 2047/2048, loss = 0.16484398883585527: 100%|██████████| 2048/2048 [05:47<00:00,  5.89it/s]\n",
            "test | epoch 13, 255/256, loss = 0.20314071750908624, acc = 0.0: 100%|██████████| 256/256 [00:41<00:00,  6.21it/s]\n",
            "train | epoch 14, 2047/2048, loss = 0.15227977563245076: 100%|██████████| 2048/2048 [05:48<00:00,  5.87it/s]\n",
            "test | epoch 14, 255/256, loss = 0.19776028854539618, acc = 0.0: 100%|██████████| 256/256 [00:41<00:00,  6.21it/s]\n",
            "train | epoch 15, 2047/2048, loss = 0.14125642782073555: 100%|██████████| 2048/2048 [05:48<00:00,  5.88it/s]\n",
            "test | epoch 15, 255/256, loss = 0.19386219029547647, acc = 0.0: 100%|██████████| 256/256 [00:41<00:00,  6.21it/s]\n",
            "train | epoch 16, 2047/2048, loss = 0.1316381513579472: 100%|██████████| 2048/2048 [05:48<00:00,  5.87it/s]\n",
            "test | epoch 16, 255/256, loss = 0.1900004211202031, acc = 0.0: 100%|██████████| 256/256 [00:41<00:00,  6.19it/s]\n",
            "train | epoch 17, 21/2048, loss = 0.1191750295798887:   1%|          | 22/2048 [00:04<06:13,  5.42it/s]\n"
          ]
        },
        {
          "output_type": "error",
          "ename": "KeyboardInterrupt",
          "evalue": "ignored",
          "traceback": [
            "\u001b[0;31m---------------------------------------------------------------------------\u001b[0m",
            "\u001b[0;31mKeyboardInterrupt\u001b[0m                         Traceback (most recent call last)",
            "\u001b[0;32m<ipython-input-18-263240bbee7e>\u001b[0m in \u001b[0;36m<module>\u001b[0;34m\u001b[0m\n\u001b[0;32m----> 1\u001b[0;31m \u001b[0mmain\u001b[0m\u001b[0;34m(\u001b[0m\u001b[0;34m)\u001b[0m\u001b[0;34m\u001b[0m\u001b[0;34m\u001b[0m\u001b[0m\n\u001b[0m",
            "\u001b[0;32m<ipython-input-17-7b9385cd586f>\u001b[0m in \u001b[0;36mmain\u001b[0;34m()\u001b[0m\n\u001b[1;32m     62\u001b[0m \u001b[0;34m\u001b[0m\u001b[0m\n\u001b[1;32m     63\u001b[0m   \u001b[0;32mfor\u001b[0m \u001b[0mepoch_idx\u001b[0m \u001b[0;32min\u001b[0m \u001b[0mrange\u001b[0m\u001b[0;34m(\u001b[0m\u001b[0mstart_epoch\u001b[0m\u001b[0;34m,\u001b[0m \u001b[0mNUM_EPOCHS\u001b[0m\u001b[0;34m)\u001b[0m\u001b[0;34m:\u001b[0m\u001b[0;34m\u001b[0m\u001b[0;34m\u001b[0m\u001b[0m\n\u001b[0;32m---> 64\u001b[0;31m     \u001b[0mtrain\u001b[0m\u001b[0;34m(\u001b[0m\u001b[0mepoch_idx\u001b[0m\u001b[0;34m)\u001b[0m\u001b[0;34m\u001b[0m\u001b[0;34m\u001b[0m\u001b[0m\n\u001b[0m\u001b[1;32m     65\u001b[0m     \u001b[0mtest\u001b[0m\u001b[0;34m(\u001b[0m\u001b[0mepoch_idx\u001b[0m\u001b[0;34m)\u001b[0m\u001b[0;34m\u001b[0m\u001b[0;34m\u001b[0m\u001b[0m\n\u001b[1;32m     66\u001b[0m     \u001b[0mtorch\u001b[0m\u001b[0;34m.\u001b[0m\u001b[0msave\u001b[0m\u001b[0;34m(\u001b[0m\u001b[0mnet\u001b[0m\u001b[0;34m.\u001b[0m\u001b[0mstate_dict\u001b[0m\u001b[0;34m(\u001b[0m\u001b[0;34m)\u001b[0m\u001b[0;34m,\u001b[0m \u001b[0;34mf'net{epoch_idx}'\u001b[0m\u001b[0;34m)\u001b[0m\u001b[0;34m\u001b[0m\u001b[0;34m\u001b[0m\u001b[0m\n",
            "\u001b[0;32m<ipython-input-17-7b9385cd586f>\u001b[0m in \u001b[0;36mtrain\u001b[0;34m(epoch_idx)\u001b[0m\n\u001b[1;32m     25\u001b[0m     \u001b[0moptimizer\u001b[0m\u001b[0;34m.\u001b[0m\u001b[0mzero_grad\u001b[0m\u001b[0;34m(\u001b[0m\u001b[0;34m)\u001b[0m\u001b[0;34m\u001b[0m\u001b[0;34m\u001b[0m\u001b[0m\n\u001b[1;32m     26\u001b[0m     \u001b[0moutput\u001b[0m \u001b[0;34m=\u001b[0m \u001b[0mnet\u001b[0m\u001b[0;34m.\u001b[0m\u001b[0mforward\u001b[0m\u001b[0;34m(\u001b[0m\u001b[0mcanvas\u001b[0m\u001b[0;34m)\u001b[0m\u001b[0;34m\u001b[0m\u001b[0;34m\u001b[0m\u001b[0m\n\u001b[0;32m---> 27\u001b[0;31m     \u001b[0mtargets\u001b[0m \u001b[0;34m=\u001b[0m \u001b[0mtarget_decoder\u001b[0m\u001b[0;34m.\u001b[0m\u001b[0mget_targets\u001b[0m\u001b[0;34m(\u001b[0m\u001b[0mcanvas\u001b[0m\u001b[0;34m,\u001b[0m \u001b[0moutput\u001b[0m\u001b[0;34m.\u001b[0m\u001b[0manchors\u001b[0m\u001b[0;34m)\u001b[0m\u001b[0;34m\u001b[0m\u001b[0;34m\u001b[0m\u001b[0m\n\u001b[0m\u001b[1;32m     28\u001b[0m     \u001b[0mloss\u001b[0m \u001b[0;34m=\u001b[0m \u001b[0mretina_loss\u001b[0m\u001b[0;34m.\u001b[0m\u001b[0mcompute_loss\u001b[0m\u001b[0;34m(\u001b[0m\u001b[0moutput\u001b[0m\u001b[0;34m,\u001b[0m \u001b[0mtargets\u001b[0m\u001b[0;34m)\u001b[0m\u001b[0;34m\u001b[0m\u001b[0;34m\u001b[0m\u001b[0m\n\u001b[1;32m     29\u001b[0m     \u001b[0;32mif\u001b[0m \u001b[0mloss\u001b[0m \u001b[0;32mis\u001b[0m \u001b[0;32mnot\u001b[0m \u001b[0;32mNone\u001b[0m\u001b[0;34m:\u001b[0m\u001b[0;34m\u001b[0m\u001b[0;34m\u001b[0m\u001b[0m\n",
            "\u001b[0;32m<ipython-input-12-86f37bdbc292>\u001b[0m in \u001b[0;36mget_targets\u001b[0;34m(self, canvas, anchors, iou_threshold, nb_of_classes)\u001b[0m\n\u001b[1;32m     41\u001b[0m         \u001b[0;32mfor\u001b[0m \u001b[0midx\u001b[0m\u001b[0;34m,\u001b[0m \u001b[0manchor\u001b[0m \u001b[0;32min\u001b[0m \u001b[0menumerate\u001b[0m\u001b[0;34m(\u001b[0m\u001b[0manchors\u001b[0m\u001b[0;34m)\u001b[0m\u001b[0;34m:\u001b[0m\u001b[0;34m\u001b[0m\u001b[0;34m\u001b[0m\u001b[0m\n\u001b[1;32m     42\u001b[0m           \u001b[0mgt_best\u001b[0m \u001b[0;34m=\u001b[0m \u001b[0mmax\u001b[0m\u001b[0;34m(\u001b[0m\u001b[0mgt_boxes\u001b[0m\u001b[0;34m,\u001b[0m \u001b[0mkey\u001b[0m\u001b[0;34m=\u001b[0m\u001b[0manchor\u001b[0m\u001b[0;34m.\u001b[0m\u001b[0miou_with\u001b[0m\u001b[0;34m)\u001b[0m\u001b[0;34m\u001b[0m\u001b[0;34m\u001b[0m\u001b[0m\n\u001b[0;32m---> 43\u001b[0;31m           \u001b[0;32mif\u001b[0m \u001b[0manchor\u001b[0m\u001b[0;34m.\u001b[0m\u001b[0miou_with\u001b[0m\u001b[0;34m(\u001b[0m\u001b[0mgt_best\u001b[0m\u001b[0;34m)\u001b[0m \u001b[0;34m>\u001b[0m \u001b[0miou_threshold\u001b[0m\u001b[0;34m:\u001b[0m\u001b[0;34m\u001b[0m\u001b[0;34m\u001b[0m\u001b[0m\n\u001b[0m\u001b[1;32m     44\u001b[0m             \u001b[0mdigit_classif_tgt\u001b[0m\u001b[0;34m[\u001b[0m\u001b[0midx\u001b[0m\u001b[0;34m,\u001b[0m\u001b[0mgt_best\u001b[0m\u001b[0;34m.\u001b[0m\u001b[0mclass_nb\u001b[0m\u001b[0;34m-\u001b[0m\u001b[0;36m1\u001b[0m\u001b[0;34m]\u001b[0m \u001b[0;34m=\u001b[0m \u001b[0;36m1\u001b[0m\u001b[0;34m\u001b[0m\u001b[0;34m\u001b[0m\u001b[0m\n\u001b[1;32m     45\u001b[0m             \u001b[0mrot_classif_tgt\u001b[0m\u001b[0;34m[\u001b[0m\u001b[0midx\u001b[0m\u001b[0;34m,\u001b[0m\u001b[0;36m1\u001b[0m \u001b[0;32mif\u001b[0m \u001b[0mgt_best\u001b[0m\u001b[0;34m.\u001b[0m\u001b[0mrotated\u001b[0m \u001b[0;32melse\u001b[0m \u001b[0;36m0\u001b[0m\u001b[0;34m]\u001b[0m \u001b[0;34m=\u001b[0m \u001b[0;36m1\u001b[0m\u001b[0;34m\u001b[0m\u001b[0;34m\u001b[0m\u001b[0m\n",
            "\u001b[0;32m<ipython-input-1-956655190171>\u001b[0m in \u001b[0;36miou_with\u001b[0;34m(self, other_box)\u001b[0m\n\u001b[1;32m     68\u001b[0m \u001b[0;34m\u001b[0m\u001b[0m\n\u001b[1;32m     69\u001b[0m     \u001b[0;32mdef\u001b[0m \u001b[0miou_with\u001b[0m\u001b[0;34m(\u001b[0m\u001b[0mself\u001b[0m\u001b[0;34m,\u001b[0m \u001b[0mother_box\u001b[0m\u001b[0;34m:\u001b[0m \u001b[0;34m\"MnistBox\"\u001b[0m\u001b[0;34m)\u001b[0m\u001b[0;34m:\u001b[0m\u001b[0;34m\u001b[0m\u001b[0;34m\u001b[0m\u001b[0m\n\u001b[0;32m---> 70\u001b[0;31m         aux_box = MnistBox(\n\u001b[0m\u001b[1;32m     71\u001b[0m             \u001b[0mx_min\u001b[0m\u001b[0;34m=\u001b[0m\u001b[0mmax\u001b[0m\u001b[0;34m(\u001b[0m\u001b[0mself\u001b[0m\u001b[0;34m.\u001b[0m\u001b[0mx_min\u001b[0m\u001b[0;34m,\u001b[0m \u001b[0mother_box\u001b[0m\u001b[0;34m.\u001b[0m\u001b[0mx_min\u001b[0m\u001b[0;34m)\u001b[0m\u001b[0;34m,\u001b[0m\u001b[0;34m\u001b[0m\u001b[0;34m\u001b[0m\u001b[0m\n\u001b[1;32m     72\u001b[0m             \u001b[0mx_max\u001b[0m\u001b[0;34m=\u001b[0m\u001b[0mmin\u001b[0m\u001b[0;34m(\u001b[0m\u001b[0mself\u001b[0m\u001b[0;34m.\u001b[0m\u001b[0mx_max\u001b[0m\u001b[0;34m,\u001b[0m \u001b[0mother_box\u001b[0m\u001b[0;34m.\u001b[0m\u001b[0mx_max\u001b[0m\u001b[0;34m)\u001b[0m\u001b[0;34m,\u001b[0m\u001b[0;34m\u001b[0m\u001b[0;34m\u001b[0m\u001b[0m\n",
            "\u001b[0;31mKeyboardInterrupt\u001b[0m: "
          ]
        }
      ]
    },
    {
      "cell_type": "code",
      "source": [
        "target_decoder.get_predictions(net(TEST_CANVAS[0]))"
      ],
      "metadata": {
        "colab": {
          "base_uri": "https://localhost:8080/"
        },
        "id": "gxE8iXPjGgYZ",
        "outputId": "3f48f843-db81-42e3-a8fe-6bb39b5e58bd"
      },
      "execution_count": null,
      "outputs": [
        {
          "output_type": "execute_result",
          "data": {
            "text/plain": [
              "[Mnist Box: x_min = -0.05280116945505142, x_max = 12.374776840209961, y_min = 12.169018745422363, y_max = 29.583669662475586. Class = 3. Rotated = True.,\n",
              " Mnist Box: x_min = -0.9598657488822937, x_max = 11.166107177734375, y_min = 43.48225784301758, y_max = 60.700279235839844. Class = 0. Rotated = False.,\n",
              " Mnist Box: x_min = -0.7043758630752563, x_max = 11.24692440032959, y_min = 51.493831634521484, y_max = 68.75166320800781. Class = 0. Rotated = False.,\n",
              " Mnist Box: x_min = -0.5438572764396667, x_max = 9.265031814575195, y_min = -0.201450377702713, y_max = 12.6256742477417. Class = 0. Rotated = True.]"
            ]
          },
          "metadata": {},
          "execution_count": 20
        }
      ]
    },
    {
      "cell_type": "code",
      "source": [
        "TEST_CANVAS[0].plot()"
      ],
      "metadata": {
        "id": "adxe668LGxPr"
      },
      "execution_count": null,
      "outputs": []
    }
  ]
}