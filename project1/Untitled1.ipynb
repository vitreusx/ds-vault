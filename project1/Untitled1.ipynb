{
 "cells": [
  {
   "cell_type": "code",
   "execution_count": 3,
   "id": "developing-salmon",
   "metadata": {},
   "outputs": [],
   "source": [
    "import numpy as np\n",
    "from pint import UnitRegistry as UR\n",
    "import matplotlib.pyplot as plt\n",
    "%matplotlib widget\n",
    "u = UR()"
   ]
  },
  {
   "cell_type": "code",
   "execution_count": 6,
   "id": "royal-fellow",
   "metadata": {},
   "outputs": [],
   "source": [
    "eps = 1.5 * u.kcal / (u.mol / u.particle)\n",
    "\n",
    "def lj(r_min):\n",
    "    return lambda r: eps*((r_min/r)**12-2*(r_min/r)**6)\n",
    "\n",
    "def dh(s, eps_rel):\n",
    "    return lambda r: u.e**2*np.exp(-r/s)/(4*np.pi*eps_rel*u.epsilon_0*r)"
   ]
  },
  {
   "cell_type": "code",
   "execution_count": 16,
   "id": "polished-mambo",
   "metadata": {},
   "outputs": [
    {
     "data": {
      "application/vnd.jupyter.widget-view+json": {
       "model_id": "5c277cb803a34474953b711bc90707f2",
       "version_major": 2,
       "version_minor": 0
      },
      "text/plain": [
       "Canvas(toolbar=Toolbar(toolitems=[('Home', 'Reset original view', 'home', 'home'), ('Back', 'Back to previous …"
      ]
     },
     "metadata": {},
     "output_type": "display_data"
    },
    {
     "name": "stderr",
     "output_type": "stream",
     "text": [
      "/home/talos/.local/lib/python3.9/site-packages/numpy/core/_asarray.py:102: UnitStrippedWarning: The unit of the quantity is stripped when downcasting to ndarray.\n",
      "  return array(a, dtype, copy=False, order=order)\n",
      "/home/talos/.local/lib/python3.9/site-packages/numpy/core/_asarray.py:102: UnitStrippedWarning: The unit of the quantity is stripped when downcasting to ndarray.\n",
      "  return array(a, dtype, copy=False, order=order)\n"
     ]
    },
    {
     "data": {
      "text/plain": [
       "[<matplotlib.lines.Line2D at 0x7f406c706310>]"
      ]
     },
     "execution_count": 16,
     "metadata": {},
     "output_type": "execute_result"
    }
   ],
   "source": [
    "xs = np.linspace(1, 20, 1000)*u.angstrom\n",
    "fig, ax = plt.subplots()\n",
    "ax.set_ylim((-5, 5))\n",
    "ax.plot(xs, lj(11*u.angstrom)(xs).to(eps))\n",
    "ax.plot(xs, dh(10*u.angstrom, 80)(xs).to(eps))"
   ]
  }
 ],
 "metadata": {
  "kernelspec": {
   "display_name": "Python 3",
   "language": "python",
   "name": "python3"
  },
  "language_info": {
   "codemirror_mode": {
    "name": "ipython",
    "version": 3
   },
   "file_extension": ".py",
   "mimetype": "text/x-python",
   "name": "python",
   "nbconvert_exporter": "python",
   "pygments_lexer": "ipython3",
   "version": "3.9.2"
  }
 },
 "nbformat": 4,
 "nbformat_minor": 5
}
