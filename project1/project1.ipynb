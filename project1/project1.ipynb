{
 "cells": [
  {
   "cell_type": "code",
   "execution_count": 2,
   "id": "charged-pilot",
   "metadata": {},
   "outputs": [],
   "source": [
    "import numpy as np\n",
    "import pandas as pd\n",
    "import matplotlib as mpl\n",
    "import matplotlib.pyplot as plt\n",
    "import seaborn as sns\n",
    "from sklearn.preprocessing import OrdinalEncoder\n",
    "import ipywidgets as widgets\n",
    "from ipywidgets import interact\n",
    "import scipy.stats as stats\n",
    "import warnings\n",
    "warnings.filterwarnings('ignore')\n",
    "%matplotlib widget"
   ]
  },
  {
   "cell_type": "code",
   "execution_count": 14,
   "id": "electric-roulette",
   "metadata": {},
   "outputs": [
    {
     "data": {
      "application/vnd.jupyter.widget-view+json": {
       "model_id": "1c0d006c6f9a4e778b2b4de9ce477b73",
       "version_major": 2,
       "version_minor": 0
      },
      "text/plain": [
       "Canvas(toolbar=Toolbar(toolitems=[('Home', 'Reset original view', 'home', 'home'), ('Back', 'Back to previous …"
      ]
     },
     "metadata": {},
     "output_type": "display_data"
    },
    {
     "data": {
      "text/plain": [
       "<matplotlib.collections.PathCollection at 0x7efd8a4786a0>"
      ]
     },
     "execution_count": 14,
     "metadata": {},
     "output_type": "execute_result"
    }
   ],
   "source": [
    "fig, (ax1, ax2) = plt.subplots(2, 1)\n",
    "\n",
    "x0 = 10 * (2 * np.random.rand(100) + 1)\n",
    "ax1.scatter(x0, np.zeros_like(x0))\n",
    "\n",
    "cell = 3.0\n",
    "x1 = x0 - np.round(x0 / cell) * cell\n",
    "ax2.scatter(x1, np.zeros_like(x1))"
   ]
  },
  {
   "cell_type": "code",
   "execution_count": 16,
   "id": "celtic-performer",
   "metadata": {},
   "outputs": [
    {
     "data": {
      "text/plain": [
       "{1: 2, 2: 3}"
      ]
     },
     "execution_count": 16,
     "metadata": {},
     "output_type": "execute_result"
    }
   ],
   "source": [
    "d1 = {1: 2}\n",
    "d2 = d1\n",
    "def f(d):\n",
    "    d[2] = 3\n",
    "f(d2)\n",
    "d1"
   ]
  },
  {
   "cell_type": "markdown",
   "id": "complimentary-bridal",
   "metadata": {},
   "source": [
    "# Data and plots"
   ]
  },
  {
   "cell_type": "code",
   "execution_count": 2,
   "id": "removable-overview",
   "metadata": {},
   "outputs": [
    {
     "data": {
      "text/html": [
       "<div>\n",
       "<style scoped>\n",
       "    .dataframe tbody tr th:only-of-type {\n",
       "        vertical-align: middle;\n",
       "    }\n",
       "\n",
       "    .dataframe tbody tr th {\n",
       "        vertical-align: top;\n",
       "    }\n",
       "\n",
       "    .dataframe thead th {\n",
       "        text-align: right;\n",
       "    }\n",
       "</style>\n",
       "<table border=\"1\" class=\"dataframe\">\n",
       "  <thead>\n",
       "    <tr style=\"text-align: right;\">\n",
       "      <th></th>\n",
       "      <th>age</th>\n",
       "      <th>weight</th>\n",
       "      <th>height</th>\n",
       "      <th>gender</th>\n",
       "      <th>married</th>\n",
       "      <th>number_of_kids</th>\n",
       "      <th>pet</th>\n",
       "      <th>expenses</th>\n",
       "    </tr>\n",
       "  </thead>\n",
       "  <tbody>\n",
       "    <tr>\n",
       "      <th>0</th>\n",
       "      <td>25</td>\n",
       "      <td>61.7</td>\n",
       "      <td>121.12</td>\n",
       "      <td>other</td>\n",
       "      <td>False</td>\n",
       "      <td>2</td>\n",
       "      <td>ferret</td>\n",
       "      <td>23.442995</td>\n",
       "    </tr>\n",
       "    <tr>\n",
       "      <th>1</th>\n",
       "      <td>37</td>\n",
       "      <td>63.9</td>\n",
       "      <td>145.00</td>\n",
       "      <td>man</td>\n",
       "      <td>True</td>\n",
       "      <td>6</td>\n",
       "      <td>dog</td>\n",
       "      <td>96.836827</td>\n",
       "    </tr>\n",
       "    <tr>\n",
       "      <th>2</th>\n",
       "      <td>41</td>\n",
       "      <td>50.2</td>\n",
       "      <td>145.03</td>\n",
       "      <td>woman</td>\n",
       "      <td>True</td>\n",
       "      <td>2</td>\n",
       "      <td>hedgehog</td>\n",
       "      <td>312.676930</td>\n",
       "    </tr>\n",
       "    <tr>\n",
       "      <th>3</th>\n",
       "      <td>43</td>\n",
       "      <td>72.4</td>\n",
       "      <td>179.90</td>\n",
       "      <td>man</td>\n",
       "      <td>False</td>\n",
       "      <td>1</td>\n",
       "      <td>dog</td>\n",
       "      <td>447.428383</td>\n",
       "    </tr>\n",
       "    <tr>\n",
       "      <th>4</th>\n",
       "      <td>26</td>\n",
       "      <td>78.4</td>\n",
       "      <td>163.91</td>\n",
       "      <td>man</td>\n",
       "      <td>False</td>\n",
       "      <td>1</td>\n",
       "      <td>hedgehog</td>\n",
       "      <td>-78.227992</td>\n",
       "    </tr>\n",
       "  </tbody>\n",
       "</table>\n",
       "</div>"
      ],
      "text/plain": [
       "   age  weight  height gender  married  number_of_kids       pet    expenses\n",
       "0   25    61.7  121.12  other    False               2    ferret   23.442995\n",
       "1   37    63.9  145.00    man     True               6       dog   96.836827\n",
       "2   41    50.2  145.03  woman     True               2  hedgehog  312.676930\n",
       "3   43    72.4  179.90    man    False               1       dog  447.428383\n",
       "4   26    78.4  163.91    man    False               1  hedgehog  -78.227992"
      ]
     },
     "execution_count": 2,
     "metadata": {},
     "output_type": "execute_result"
    }
   ],
   "source": [
    "people = pd.read_csv('people.tab', sep='\\s+')\n",
    "n = people.shape[0]\n",
    "people.head()"
   ]
  },
  {
   "cell_type": "code",
   "execution_count": 3,
   "id": "angry-narrative",
   "metadata": {},
   "outputs": [
    {
     "data": {
      "text/html": [
       "<div>\n",
       "<style scoped>\n",
       "    .dataframe tbody tr th:only-of-type {\n",
       "        vertical-align: middle;\n",
       "    }\n",
       "\n",
       "    .dataframe tbody tr th {\n",
       "        vertical-align: top;\n",
       "    }\n",
       "\n",
       "    .dataframe thead th {\n",
       "        text-align: right;\n",
       "    }\n",
       "</style>\n",
       "<table border=\"1\" class=\"dataframe\">\n",
       "  <thead>\n",
       "    <tr style=\"text-align: right;\">\n",
       "      <th></th>\n",
       "      <th>age</th>\n",
       "      <th>weight</th>\n",
       "      <th>height</th>\n",
       "      <th>number_of_kids</th>\n",
       "      <th>expenses</th>\n",
       "    </tr>\n",
       "  </thead>\n",
       "  <tbody>\n",
       "    <tr>\n",
       "      <th>count</th>\n",
       "      <td>500.000000</td>\n",
       "      <td>500.000000</td>\n",
       "      <td>500.00000</td>\n",
       "      <td>500.00000</td>\n",
       "      <td>500.000000</td>\n",
       "    </tr>\n",
       "    <tr>\n",
       "      <th>mean</th>\n",
       "      <td>39.484000</td>\n",
       "      <td>66.389000</td>\n",
       "      <td>168.18036</td>\n",
       "      <td>1.55800</td>\n",
       "      <td>478.598178</td>\n",
       "    </tr>\n",
       "    <tr>\n",
       "      <th>std</th>\n",
       "      <td>8.976352</td>\n",
       "      <td>12.947799</td>\n",
       "      <td>19.65701</td>\n",
       "      <td>1.38798</td>\n",
       "      <td>567.466205</td>\n",
       "    </tr>\n",
       "    <tr>\n",
       "      <th>min</th>\n",
       "      <td>17.000000</td>\n",
       "      <td>19.400000</td>\n",
       "      <td>113.59000</td>\n",
       "      <td>0.00000</td>\n",
       "      <td>-685.682537</td>\n",
       "    </tr>\n",
       "    <tr>\n",
       "      <th>25%</th>\n",
       "      <td>33.000000</td>\n",
       "      <td>57.600000</td>\n",
       "      <td>155.64500</td>\n",
       "      <td>0.75000</td>\n",
       "      <td>74.514280</td>\n",
       "    </tr>\n",
       "    <tr>\n",
       "      <th>50%</th>\n",
       "      <td>39.000000</td>\n",
       "      <td>66.600000</td>\n",
       "      <td>168.96500</td>\n",
       "      <td>1.00000</td>\n",
       "      <td>402.219536</td>\n",
       "    </tr>\n",
       "    <tr>\n",
       "      <th>75%</th>\n",
       "      <td>45.000000</td>\n",
       "      <td>75.300000</td>\n",
       "      <td>180.11500</td>\n",
       "      <td>2.00000</td>\n",
       "      <td>802.721954</td>\n",
       "    </tr>\n",
       "    <tr>\n",
       "      <th>max</th>\n",
       "      <td>72.000000</td>\n",
       "      <td>107.200000</td>\n",
       "      <td>235.25000</td>\n",
       "      <td>6.00000</td>\n",
       "      <td>3503.903462</td>\n",
       "    </tr>\n",
       "  </tbody>\n",
       "</table>\n",
       "</div>"
      ],
      "text/plain": [
       "              age      weight     height  number_of_kids     expenses\n",
       "count  500.000000  500.000000  500.00000       500.00000   500.000000\n",
       "mean    39.484000   66.389000  168.18036         1.55800   478.598178\n",
       "std      8.976352   12.947799   19.65701         1.38798   567.466205\n",
       "min     17.000000   19.400000  113.59000         0.00000  -685.682537\n",
       "25%     33.000000   57.600000  155.64500         0.75000    74.514280\n",
       "50%     39.000000   66.600000  168.96500         1.00000   402.219536\n",
       "75%     45.000000   75.300000  180.11500         2.00000   802.721954\n",
       "max     72.000000  107.200000  235.25000         6.00000  3503.903462"
      ]
     },
     "execution_count": 3,
     "metadata": {},
     "output_type": "execute_result"
    }
   ],
   "source": [
    "people.describe()"
   ]
  },
  {
   "cell_type": "markdown",
   "id": "selective-jacob",
   "metadata": {},
   "source": [
    "There don't seem to be any errors in the dataset. As for the quantitative stats:\n",
    "- there are 500 points;\n",
    "- there are 4 continuous features (`age`, `weight`, `height` and `number_of_kids`);\n",
    "- there are 3 noncontinuous features (boolean `married` and categorical `gender` and `pet`).\n",
    "\n",
    "Let's look at the correlations between the quantitative features."
   ]
  },
  {
   "cell_type": "code",
   "execution_count": 4,
   "id": "physical-escape",
   "metadata": {},
   "outputs": [
    {
     "data": {
      "application/vnd.jupyter.widget-view+json": {
       "model_id": "679eca9ac16d4d4db4bc1c775734e1f0",
       "version_major": 2,
       "version_minor": 0
      },
      "text/plain": [
       "Canvas(toolbar=Toolbar(toolitems=[('Home', 'Reset original view', 'home', 'home'), ('Back', 'Back to previous …"
      ]
     },
     "metadata": {},
     "output_type": "display_data"
    },
    {
     "data": {
      "text/plain": [
       "<seaborn.axisgrid.PairGrid at 0x7f5037c86d90>"
      ]
     },
     "execution_count": 4,
     "metadata": {},
     "output_type": "execute_result"
    }
   ],
   "source": [
    "qual_vars = ['gender', 'married', 'pet']\n",
    "for qual_var in qual_vars:\n",
    "    people[qual_var] = people[qual_var].astype('str')\n",
    "qual = people[qual_vars]\n",
    "\n",
    "quant_vars = ['age', 'weight', 'height', 'number_of_kids', 'expenses']\n",
    "quant = people[quant_vars]\n",
    "\n",
    "cont_vars = ['age', 'weight', 'height', 'expenses']\n",
    "cont = people[cont_vars]\n",
    "\n",
    "sns.pairplot(quant, height=1, aspect=1)"
   ]
  },
  {
   "cell_type": "markdown",
   "id": "concrete-connection",
   "metadata": {},
   "source": [
    "And now the correlation matrix."
   ]
  },
  {
   "cell_type": "code",
   "execution_count": 5,
   "id": "marine-ceiling",
   "metadata": {},
   "outputs": [
    {
     "data": {
      "application/vnd.jupyter.widget-view+json": {
       "model_id": "8b9f1abfd90643759c7645905d64f020",
       "version_major": 2,
       "version_minor": 0
      },
      "text/plain": [
       "Canvas(toolbar=Toolbar(toolitems=[('Home', 'Reset original view', 'home', 'home'), ('Back', 'Back to previous …"
      ]
     },
     "metadata": {},
     "output_type": "display_data"
    },
    {
     "data": {
      "text/plain": [
       "<AxesSubplot:>"
      ]
     },
     "execution_count": 5,
     "metadata": {},
     "output_type": "execute_result"
    }
   ],
   "source": [
    "fig1, ax1 = plt.subplots()\n",
    "corr = people.corr()\n",
    "sns.heatmap(people.corr(), ax=ax1)"
   ]
  },
  {
   "cell_type": "markdown",
   "id": "close-friendship",
   "metadata": {},
   "source": [
    "So, for the most part, `expenses` is really only correlated with `age`.\n",
    "\n",
    "Let's look at the boxplots."
   ]
  },
  {
   "cell_type": "code",
   "execution_count": 6,
   "id": "appreciated-charter",
   "metadata": {},
   "outputs": [
    {
     "data": {
      "application/vnd.jupyter.widget-view+json": {
       "model_id": "9f581e54f7a94d1fa5aac46ac5aa0606",
       "version_major": 2,
       "version_minor": 0
      },
      "text/plain": [
       "Canvas(toolbar=Toolbar(toolitems=[('Home', 'Reset original view', 'home', 'home'), ('Back', 'Back to previous …"
      ]
     },
     "metadata": {},
     "output_type": "display_data"
    },
    {
     "data": {
      "application/vnd.jupyter.widget-view+json": {
       "model_id": "252ef777c21740129b44856b806a18e4",
       "version_major": 2,
       "version_minor": 0
      },
      "text/plain": [
       "interactive(children=(Dropdown(description='Column:', options=('age', 'weight', 'height', 'gender', 'married',…"
      ]
     },
     "metadata": {},
     "output_type": "display_data"
    },
    {
     "data": {
      "text/plain": [
       "<function __main__.boxplots(*args, **kwargs)>"
      ]
     },
     "execution_count": 6,
     "metadata": {},
     "output_type": "execute_result"
    }
   ],
   "source": [
    "fig2, ax2 = plt.subplots()\n",
    "def boxplots(*args, **kwargs):\n",
    "    col = kwargs['Column:']\n",
    "    ax2.clear()\n",
    "    sns.boxplot(x=col, data=people, ax=ax2)\n",
    "\n",
    "interact(boxplots, **{'Column:': people.columns})"
   ]
  },
  {
   "cell_type": "markdown",
   "id": "induced-administrator",
   "metadata": {},
   "source": [
    "and the count/histplots."
   ]
  },
  {
   "cell_type": "code",
   "execution_count": 7,
   "id": "historical-nation",
   "metadata": {},
   "outputs": [
    {
     "data": {
      "application/vnd.jupyter.widget-view+json": {
       "model_id": "77241ccb787b4214bb710fa7e932651a",
       "version_major": 2,
       "version_minor": 0
      },
      "text/plain": [
       "Canvas(toolbar=Toolbar(toolitems=[('Home', 'Reset original view', 'home', 'home'), ('Back', 'Back to previous …"
      ]
     },
     "metadata": {},
     "output_type": "display_data"
    },
    {
     "data": {
      "application/vnd.jupyter.widget-view+json": {
       "model_id": "89cd36fd28d04aeb9670dde31eaee9a7",
       "version_major": 2,
       "version_minor": 0
      },
      "text/plain": [
       "interactive(children=(Dropdown(description='Column:', options=('age', 'weight', 'height', 'gender', 'married',…"
      ]
     },
     "metadata": {},
     "output_type": "display_data"
    },
    {
     "data": {
      "text/plain": [
       "<function __main__.barplots(*args, **kwargs)>"
      ]
     },
     "execution_count": 7,
     "metadata": {},
     "output_type": "execute_result"
    }
   ],
   "source": [
    "fig3, ax3 = plt.subplots()\n",
    "def barplots(*args, **kwargs):\n",
    "    col = kwargs['Column:']\n",
    "    ax3.clear()\n",
    "    if col in quant_vars:\n",
    "        sns.histplot(x=col, data=people, ax=ax3)\n",
    "    else:\n",
    "        sns.countplot(x=col, data=people, ax=ax3)\n",
    "\n",
    "interact(barplots, **{'Column:': people.columns})"
   ]
  },
  {
   "cell_type": "markdown",
   "id": "frequent-thousand",
   "metadata": {},
   "source": [
    "# Hypothesis testing"
   ]
  },
  {
   "cell_type": "markdown",
   "id": "blank-flesh",
   "metadata": {},
   "source": [
    "## Hypothesis 1\n",
    "\n",
    "$H_0: \\mu_h = 170\\text{ cm}$\n",
    "\n",
    "$H_1: \\mu_h < 170\\text{ cm}$\n",
    "\n",
    "We can do a standard $t$-test. Assumptions:\n",
    "- $h$ is normally distributed: it is, in general."
   ]
  },
  {
   "cell_type": "code",
   "execution_count": 8,
   "id": "agricultural-worcester",
   "metadata": {},
   "outputs": [
    {
     "data": {
      "text/plain": [
       "Ttest_1sampResult(statistic=-2.0699174047035447, pvalue=0.019487018511329824)"
      ]
     },
     "execution_count": 8,
     "metadata": {},
     "output_type": "execute_result"
    }
   ],
   "source": [
    "h = people['height']\n",
    "stats.ttest_1samp(h, popmean=170, alternative='less')"
   ]
  },
  {
   "cell_type": "markdown",
   "id": "unsigned-sleeping",
   "metadata": {},
   "source": [
    "## Hypothesis 2\n",
    "\n",
    "$H_0: \\text{med}(h) = 165\\text{ cm}$\n",
    "\n",
    "$H_1: \\text{med}(h) < 165\\text{ cm}$\n",
    "\n",
    "Here the most appropriate test is Wilcoxon signed-ranks test for samples $h$ and $Y = 165\\text{ cm}$. Assumptions:\n",
    "- ???"
   ]
  },
  {
   "cell_type": "code",
   "execution_count": 9,
   "id": "convinced-denial",
   "metadata": {},
   "outputs": [
    {
     "data": {
      "text/plain": [
       "WilcoxonResult(statistic=74415.5, pvalue=0.9998676919653384)"
      ]
     },
     "execution_count": 9,
     "metadata": {},
     "output_type": "execute_result"
    }
   ],
   "source": [
    "stats.wilcoxon(h, np.ones_like(h) * 165, alternative='less')"
   ]
  },
  {
   "cell_type": "markdown",
   "id": "horizontal-review",
   "metadata": {},
   "source": [
    "# Confidence intervals\n",
    "Here, `age` seems to be sort-of normally distributed, but in reality age is not distributed like it, so we shall not assume it. This, of course, complicates matters."
   ]
  },
  {
   "cell_type": "code",
   "execution_count": 10,
   "id": "velvet-appraisal",
   "metadata": {},
   "outputs": [],
   "source": [
    "X = people['age']\n",
    "gamma = 0.99\n",
    "alpha = 1-gamma"
   ]
  },
  {
   "cell_type": "markdown",
   "id": "liberal-religion",
   "metadata": {},
   "source": [
    "## $\\mu$\n",
    "Since the sample size is fairly large, we could assume $\\sqrt{n} (\\bar{X} - \\mu) / S \\sim \\mathcal{N}(0, 1)$, which would give us a confidence interval:\n",
    "$$\\left(\\bar{X}-\\frac{q(1-\\alpha/2)}{\\sqrt{n}}S, \\bar{X}+\\frac{q(1-\\alpha/2)}{\\sqrt{n}}S\\right)$$"
   ]
  },
  {
   "cell_type": "code",
   "execution_count": 11,
   "id": "brutal-december",
   "metadata": {},
   "outputs": [
    {
     "name": "stdout",
     "output_type": "stream",
     "text": [
      "99.0% CI for mean: (38.44997283505816, 40.51802716494184)\n"
     ]
    }
   ],
   "source": [
    "X_mean = np.mean(X)\n",
    "X_var = np.sum((X - X_mean)**2)/(n-1)\n",
    "X_sd = np.sqrt(X_var)\n",
    "q = stats.norm().ppf(1-alpha/2)\n",
    "mean_dev = q / np.sqrt(n) * X_sd\n",
    "min_mean = X_mean - mean_dev\n",
    "max_mean = X_mean + mean_dev\n",
    "print(f'{100*gamma}% CI for mean: ({min_mean}, {max_mean})')"
   ]
  },
  {
   "cell_type": "markdown",
   "id": "accessible-premiere",
   "metadata": {},
   "source": [
    "## $\\sigma$\n",
    "There are a few ideas."
   ]
  },
  {
   "cell_type": "markdown",
   "id": "obvious-pasta",
   "metadata": {},
   "source": [
    "First is to assume (for a moment) that $X$ is normally distributed, and use the formula $nS^2/\\sigma^2 \\sim \\chi^2(n-1)$, where we get confidence intervals:\n",
    "$$\\left(\\frac{nS^2}{\\chi^2(1-\\alpha/2, n-1)}, \\frac{nS^2}{\\chi^2(\\alpha/2, n-1)}\\right)$$\n",
    "for $\\sigma^2$, which we may then simply take a square root of."
   ]
  },
  {
   "cell_type": "code",
   "execution_count": 12,
   "id": "improving-warrant",
   "metadata": {},
   "outputs": [
    {
     "name": "stdout",
     "output_type": "stream",
     "text": [
      "99.0% CI for sd (V1): (8.304852688169143, 9.777895893016343)\n"
     ]
    }
   ],
   "source": [
    "min1_sd = np.sqrt(n*X_var/stats.chi2(n-1).ppf(1-alpha/2))\n",
    "max1_sd = np.sqrt(n*X_var/stats.chi2(n-1).ppf(alpha/2))\n",
    "print(f'{100*gamma}% CI for sd (V1): ({min1_sd}, {max1_sd})')"
   ]
  },
  {
   "cell_type": "markdown",
   "id": "cutting-professional",
   "metadata": {},
   "source": [
    "`age`**Note**: Taken from taken from https://stats.stackexchange.com/questions/105337/asymptotic-distribution-of-sample-variance-of-non-normal-sample.\n",
    "\n",
    "Another one is to use $\\sqrt{n} (S^2-\\sigma^2) \\to_d \\mathcal{N}(0, \\mu_4 - \\sigma^4)$, where $\\mu_4$ is the fourth central moment $\\mu_4 = E(X-\\hat{X})^4$, which would give:\n",
    "$$\\left(S^2 - \\frac{q(1-\\alpha/2)}{\\sqrt{n}}\\sqrt{\\hat{\\mu_4}-S^4}, S^2 + \\frac{q(1-\\alpha/2)}{\\sqrt{n}}\\sqrt{\\hat{\\mu_4}-S^4}\\right)$$\n",
    "for $\\sigma^2$, which we would take a square root of. We shall estimate $\\hat{\\mu_4}$ in a straightforward manner."
   ]
  },
  {
   "cell_type": "code",
   "execution_count": 13,
   "id": "neural-dancing",
   "metadata": {},
   "outputs": [
    {
     "name": "stdout",
     "output_type": "stream",
     "text": [
      "99.0% CI for sd (V2): (8.113220676523337, 9.763474680111814)\n"
     ]
    }
   ],
   "source": [
    "mu_4 = np.mean((X-X_mean)**4)\n",
    "S2_dev = stats.norm().ppf(1-alpha/2)/np.sqrt(n) * np.sqrt(mu_4 - X_var**2)\n",
    "min2_sd = np.sqrt(X_var-S2_dev)\n",
    "max2_sd = np.sqrt(X_var+S2_dev)\n",
    "print(f'{100*gamma}% CI for sd (V2): ({min2_sd}, {max2_sd})')"
   ]
  },
  {
   "cell_type": "markdown",
   "id": "concerned-association",
   "metadata": {},
   "source": [
    "## Bayesian inference of $\\mu$ and $\\sigma$\n",
    "We could also try to use Bayesian methods for deriving these intervals."
   ]
  },
  {
   "cell_type": "code",
   "execution_count": 14,
   "id": "owned-tuning",
   "metadata": {},
   "outputs": [
    {
     "name": "stdout",
     "output_type": "stream",
     "text": [
      "99.0% CI for mean (Bayes): (38.44600329675418, 40.521996703245826))\n",
      "99.0% CI for sd (Bayes): (8.296543678897008, 9.768113103280314)\n"
     ]
    }
   ],
   "source": [
    "bayes_mu, _, bayes_sd = stats.bayes_mvs(X, alpha=gamma)\n",
    "print(f'{100*gamma}% CI for mean (Bayes): {bayes_mu.minmax})')\n",
    "print(f'{100*gamma}% CI for sd (Bayes): {bayes_sd.minmax}')"
   ]
  },
  {
   "cell_type": "markdown",
   "id": "short-developer",
   "metadata": {},
   "source": [
    "## Quantiles\n",
    "**Note:** Taken from https://stats.stackexchange.com/questions/99829/how-to-obtain-a-confidence-interval-for-a-percentile"
   ]
  },
  {
   "cell_type": "code",
   "execution_count": 15,
   "id": "reflected-impression",
   "metadata": {},
   "outputs": [
    {
     "name": "stdout",
     "output_type": "stream",
     "text": [
      "99.0% CI for quantile 0.25: (32, 35)\n",
      "99.0% CI for quantile 0.5: (38, 40)\n",
      "99.0% CI for quantile 0.75: (43, 47)\n"
     ]
    }
   ],
   "source": [
    "def quantileCI(q):\n",
    "    d = int(np.sqrt(n))\n",
    "    dist = stats.binom(n, q)\n",
    "    lx = dist.ppf(alpha/2) + np.arange(-d, d)\n",
    "    lx = lx[lx >= 0]\n",
    "    ux = dist.ppf(1-alpha/2) + np.arange(-d, d)\n",
    "    ux = ux[ux < n]\n",
    "    \n",
    "    lu_pairs = [(int(l), int(u)) for l in lx for u in ux\n",
    "                if dist.cdf(u) - dist.cdf(l) >= 1-alpha]\n",
    "    X_s = np.sort(X)\n",
    "    l0, u0 = min(lu_pairs, key=lambda lu: X_s[lu[1]] - X_s[lu[0]])\n",
    "    return (X_s[l0], X_s[u0])\n",
    "\n",
    "for q in [0.25, 0.5, 0.75]:\n",
    "    print(f'{100*gamma}% CI for quantile {q}: {quantileCI(q)}')"
   ]
  },
  {
   "cell_type": "markdown",
   "id": "higher-investigator",
   "metadata": {},
   "source": [
    "# Hypothesis testing II"
   ]
  },
  {
   "cell_type": "markdown",
   "id": "compact-violin",
   "metadata": {},
   "source": [
    "## Hypothesis 1\n",
    "We are supposed to pick one variable, but we could as well check all of them (aside from `gender`, of course)\n",
    "\n",
    "$H_0$: means of values for men and women are equal\n",
    "\n",
    "$H_1$: means of values for men and women are not equal\n",
    "\n",
    "These can be checked using the $t$-test."
   ]
  },
  {
   "cell_type": "code",
   "execution_count": 16,
   "id": "average-union",
   "metadata": {},
   "outputs": [
    {
     "name": "stdout",
     "output_type": "stream",
     "text": [
      "Test for age: t = 0.9173914514042579, p = 0.35942430946193793\n",
      "Test for weight: t = -1.4298499464304124, p = 0.15346457455970736\n",
      "Test for height: t = -1.3098950140520111, p = 0.19088863469241904\n",
      "Test for number_of_kids: t = -0.4959202663374141, p = 0.620187530695445\n",
      "Test for expenses: t = 0.4105633456676251, p = 0.6815843923892749\n"
     ]
    }
   ],
   "source": [
    "for quant_var in quant_vars:\n",
    "    val_women = people[quant_var][people['gender'] == 'woman']\n",
    "    val_men = people[quant_var][people['gender'] == 'man']\n",
    "    stat, pv = stats.ttest_ind(val_women, val_men,\n",
    "                               equal_var = False,\n",
    "                               alternative='two-sided')\n",
    "    print(f'Test for {quant_var}: t = {stat}, p = {pv}')"
   ]
  },
  {
   "cell_type": "markdown",
   "id": "anticipated-comedy",
   "metadata": {},
   "source": [
    "## Hypothesis 2\n",
    "\n",
    "$H_0$: these (quantitative) variables are independent\n",
    "\n",
    "$H_1$: these (quantitative) variables are dependent\n",
    "\n",
    "Of course we shall check it for all pairs. We will use Spearman's $\\rho$."
   ]
  },
  {
   "cell_type": "code",
   "execution_count": 17,
   "id": "musical-turner",
   "metadata": {},
   "outputs": [
    {
     "name": "stdout",
     "output_type": "stream",
     "text": [
      "age <-> age: p = 0.0\n",
      "age <-> weight: p = 0.1538478459298146\n",
      "age <-> height: p = 0.25452758457378305\n",
      "age <-> number_of_kids: p = 0.8638567464685418\n",
      "age <-> expenses: p = 2.1400774861481664e-146\n",
      "weight <-> age: p = 0.1538478459298146\n",
      "weight <-> weight: p = 0.0\n",
      "weight <-> height: p = 9.520881755284377e-60\n",
      "weight <-> number_of_kids: p = 0.48841727016347136\n",
      "weight <-> expenses: p = 0.6600638422784821\n",
      "height <-> age: p = 0.2545275845737831\n",
      "height <-> weight: p = 9.52088175528492e-60\n",
      "height <-> height: p = 0.0\n",
      "height <-> number_of_kids: p = 0.5215269938776141\n",
      "height <-> expenses: p = 0.6920268883759064\n",
      "number_of_kids <-> age: p = 0.8638567464685418\n",
      "number_of_kids <-> weight: p = 0.48841727016347136\n",
      "number_of_kids <-> height: p = 0.5215269938776141\n",
      "number_of_kids <-> number_of_kids: p = 0.0\n",
      "number_of_kids <-> expenses: p = 0.2904480606280596\n",
      "expenses <-> age: p = 2.1400774861476796e-146\n",
      "expenses <-> weight: p = 0.6600638422784821\n",
      "expenses <-> height: p = 0.6920268883759064\n",
      "expenses <-> number_of_kids: p = 0.2904480606280594\n",
      "expenses <-> expenses: p = 0.0\n"
     ]
    },
    {
     "data": {
      "application/vnd.jupyter.widget-view+json": {
       "model_id": "da5a011c548e41e7918fe40ea70db4f1",
       "version_major": 2,
       "version_minor": 0
      },
      "text/plain": [
       "Canvas(toolbar=Toolbar(toolitems=[('Home', 'Reset original view', 'home', 'home'), ('Back', 'Back to previous …"
      ]
     },
     "metadata": {},
     "output_type": "display_data"
    },
    {
     "data": {
      "text/plain": [
       "<AxesSubplot:>"
      ]
     },
     "execution_count": 17,
     "metadata": {},
     "output_type": "execute_result"
    }
   ],
   "source": [
    "quant_pv = pd.DataFrame(columns=quant_vars, index=quant_vars, dtype=float)\n",
    "\n",
    "for var1 in quant_vars:\n",
    "    for var2 in quant_vars:\n",
    "        pv = stats.spearmanr(people[var1], people[var2])[1]\n",
    "        quant_pv.loc[var1, var2] = pv\n",
    "        print(f'{var1} <-> {var2}: p = {pv}')\n",
    "\n",
    "fig4, ax4 = plt.subplots()\n",
    "sns.heatmap(quant_pv, ax=ax4)"
   ]
  },
  {
   "cell_type": "markdown",
   "id": "black-vanilla",
   "metadata": {},
   "source": [
    "## Hypothesis 3\n",
    "Much the same thing but with qualitative variables. We will use Pearson's $\\chi^2$ independence test."
   ]
  },
  {
   "cell_type": "code",
   "execution_count": 18,
   "id": "functioning-moscow",
   "metadata": {},
   "outputs": [
    {
     "name": "stdout",
     "output_type": "stream",
     "text": [
      "gender <-> gender: p = 3.5694127797773694e-215\n",
      "gender <-> married: p = 0.2729287015896417\n",
      "gender <-> pet: p = 0.8325018435693856\n",
      "married <-> gender: p = 0.2729287015896416\n",
      "married <-> married: p = 8.65741727035078e-110\n",
      "married <-> pet: p = 0.21403498460590317\n",
      "pet <-> gender: p = 0.8325018435693855\n",
      "pet <-> married: p = 0.21403498460590317\n",
      "pet <-> pet: p = 0.0\n"
     ]
    },
    {
     "data": {
      "application/vnd.jupyter.widget-view+json": {
       "model_id": "45e4b4660d974a9fb289137e3a44625e",
       "version_major": 2,
       "version_minor": 0
      },
      "text/plain": [
       "Canvas(toolbar=Toolbar(toolitems=[('Home', 'Reset original view', 'home', 'home'), ('Back', 'Back to previous …"
      ]
     },
     "metadata": {},
     "output_type": "display_data"
    },
    {
     "data": {
      "text/plain": [
       "<AxesSubplot:>"
      ]
     },
     "execution_count": 18,
     "metadata": {},
     "output_type": "execute_result"
    }
   ],
   "source": [
    "qual_pv = pd.DataFrame(columns=qual_vars, index=qual_vars, dtype=float)\n",
    "\n",
    "for var1 in qual_vars:\n",
    "    for var2 in qual_vars:\n",
    "        counts = pd.crosstab(people[var1], people[var2])\n",
    "        pv = stats.contingency.chi2_contingency(counts)[1]\n",
    "        qual_pv.loc[var1, var2] = pv\n",
    "        print(f'{var1} <-> {var2}: p = {pv}')\n",
    "\n",
    "fig5, ax5 = plt.subplots()\n",
    "sns.heatmap(qual_pv, ax=ax5)"
   ]
  },
  {
   "cell_type": "markdown",
   "id": "employed-bracelet",
   "metadata": {},
   "source": [
    "## Hypothesis 4\n",
    "We may wish to check whether `age` is indeed normally distributed, using the Shapiro-Wilk test."
   ]
  },
  {
   "cell_type": "code",
   "execution_count": 19,
   "id": "nutritional-warner",
   "metadata": {},
   "outputs": [
    {
     "data": {
      "text/plain": [
       "ShapiroResult(statistic=0.9817890524864197, pvalue=6.5907856878766324e-06)"
      ]
     },
     "execution_count": 19,
     "metadata": {},
     "output_type": "execute_result"
    }
   ],
   "source": [
    "stats.shapiro(people['age'])"
   ]
  }
 ],
 "metadata": {
  "kernelspec": {
   "display_name": "Python 3",
   "language": "python",
   "name": "python3"
  },
  "language_info": {
   "codemirror_mode": {
    "name": "ipython",
    "version": 3
   },
   "file_extension": ".py",
   "mimetype": "text/x-python",
   "name": "python",
   "nbconvert_exporter": "python",
   "pygments_lexer": "ipython3",
   "version": "3.9.2"
  }
 },
 "nbformat": 4,
 "nbformat_minor": 5
}
